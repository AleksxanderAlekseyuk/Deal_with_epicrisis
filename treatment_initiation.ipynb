{
  "nbformat": 4,
  "nbformat_minor": 0,
  "metadata": {
    "colab": {
      "name": "treatment_initiation",
      "provenance": [],
      "mount_file_id": "193I4vGm8fMiCA_dnnJjuJpRx0VwZsZjh",
      "authorship_tag": "ABX9TyOcIiR7m/kGaTBCK/no+XcO",
      "include_colab_link": true
    },
    "kernelspec": {
      "name": "python3",
      "display_name": "Python 3"
    },
    "language_info": {
      "name": "python"
    }
  },
  "cells": [
    {
      "cell_type": "markdown",
      "metadata": {
        "id": "view-in-github",
        "colab_type": "text"
      },
      "source": [
        "<a href=\"https://colab.research.google.com/github/AleksxanderAlekseyuk/Deal_with_epicrisis/blob/main/treatment_initiation.ipynb\" target=\"_parent\"><img src=\"https://colab.research.google.com/assets/colab-badge.svg\" alt=\"Open In Colab\"/></a>"
      ]
    },
    {
      "cell_type": "code",
      "source": [
        "import re\n",
        "import os\n",
        "import pandas as pd\n",
        "import numpy as np\n",
        "from glob import glob\n",
        "from re import sub"
      ],
      "metadata": {
        "id": "J7Cq02ECMmJa"
      },
      "execution_count": 6,
      "outputs": []
    },
    {
      "cell_type": "code",
      "execution_count": 24,
      "metadata": {
        "id": "m_0BZzSPGmyM"
      },
      "outputs": [],
      "source": [
        "lst = list(glob(os.path.join('/content/drive/MyDrive/phd/script.zip (Unzipped Files)/script', '*')))\n",
        "ids = []\n",
        "birthday = []\n",
        "treatment = []"
      ]
    },
    {
      "cell_type": "code",
      "source": [
        "for doc in lst:\n",
        "   with open(doc, encoding='utf-8', errors='ignore') as f:\n",
        "     file_ = sub('<|>|\\\\(|\\\\)|меньше|меньшн|больше|более|от|менее|iultra|\\\\(|ручная|\\\\)|\\\\(|автоматическая|\\\\)', \n",
        "                  '.', ''.join(f.read().split()).lower())\n",
        "     file_ =  sub(r'(0?[1-9]|[12]\\d|30|31)[.](0?[1-9]|1[0-2])[.](\\d{4})', \n",
        "                     '\\\\1-\\\\2-\\\\3', file_)\n",
        "     file_ = sub(r'(0?[1-9]|[12]\\d|30|31)[.](0?[1-9]|1[0-2])[.](\\d{2})',\n",
        "                    '\\\\1-\\\\2-20\\\\3', file_)\n",
        "     id = re.findall('\\d+', file_)[0]\n",
        "     birthday_ = re.findall('\\d{2}-\\d{2}-\\d{4}', file_)[0]\n",
        "     treatment_ = re.findall(\"(?<=проведенноелечение:).*?(?=рекомендации|наблюдение)\", \n",
        "                            file_)\n",
        "     ids.append(id)\n",
        "     birthday.append(birthday_)\n",
        "     treatment.append(treatment_)"
      ],
      "metadata": {
        "id": "VJV_8t8ANYSh"
      },
      "execution_count": 25,
      "outputs": []
    },
    {
      "cell_type": "code",
      "source": [
        "ids[:10]"
      ],
      "metadata": {
        "colab": {
          "base_uri": "https://localhost:8080/"
        },
        "id": "qKviS0BPPnoi",
        "outputId": "83bc0198-cedb-4899-86a8-6f5dec43cc61"
      },
      "execution_count": 26,
      "outputs": [
        {
          "output_type": "execute_result",
          "data": {
            "text/plain": [
              "['27389',\n",
              " '27052',\n",
              " '27071',\n",
              " '887',\n",
              " '3',\n",
              " '27027',\n",
              " '1',\n",
              " '27186',\n",
              " '27042',\n",
              " '27222']"
            ]
          },
          "metadata": {},
          "execution_count": 26
        }
      ]
    },
    {
      "cell_type": "code",
      "source": [
        "data_treatment = {'ID':ids, 'birthday':birthday,'treatment':treatment}\n",
        "df = pd.DataFrame(data_treatment)\n",
        "df.replace(r'', np.nan, regex=True)"
      ],
      "metadata": {
        "colab": {
          "base_uri": "https://localhost:8080/",
          "height": 423
        },
        "id": "Km3Co5rdPVer",
        "outputId": "1090aa91-e86a-4714-8808-5677fdc65cf8"
      },
      "execution_count": 50,
      "outputs": [
        {
          "output_type": "execute_result",
          "data": {
            "text/html": [
              "\n",
              "  <div id=\"df-53145347-9c1c-4c6d-8661-be688087367b\">\n",
              "    <div class=\"colab-df-container\">\n",
              "      <div>\n",
              "<style scoped>\n",
              "    .dataframe tbody tr th:only-of-type {\n",
              "        vertical-align: middle;\n",
              "    }\n",
              "\n",
              "    .dataframe tbody tr th {\n",
              "        vertical-align: top;\n",
              "    }\n",
              "\n",
              "    .dataframe thead th {\n",
              "        text-align: right;\n",
              "    }\n",
              "</style>\n",
              "<table border=\"1\" class=\"dataframe\">\n",
              "  <thead>\n",
              "    <tr style=\"text-align: right;\">\n",
              "      <th></th>\n",
              "      <th>ID</th>\n",
              "      <th>birthday</th>\n",
              "      <th>treatment</th>\n",
              "    </tr>\n",
              "  </thead>\n",
              "  <tbody>\n",
              "    <tr>\n",
              "      <th>0</th>\n",
              "      <td>27389</td>\n",
              "      <td>15-09-1952</td>\n",
              "      <td>[пронпозиция,кислород.ерапия,дексаметазон,омеп...</td>\n",
              "    </tr>\n",
              "    <tr>\n",
              "      <th>1</th>\n",
              "      <td>27052</td>\n",
              "      <td>06-03-1952</td>\n",
              "      <td>[инфузионнаятерапия,витамин.ерапия,гепарин,дек...</td>\n",
              "    </tr>\n",
              "    <tr>\n",
              "      <th>2</th>\n",
              "      <td>27071</td>\n",
              "      <td>18-07-1955</td>\n",
              "      <td>[бортезамиб,циклофосфан,дексаметазонв\\в,фуросе...</td>\n",
              "    </tr>\n",
              "    <tr>\n",
              "      <th>3</th>\n",
              "      <td>887</td>\n",
              "      <td>18-09-1984</td>\n",
              "      <td>[пронпозиция,дексаметазон,омепразол,фраксипари...</td>\n",
              "    </tr>\n",
              "    <tr>\n",
              "      <th>4</th>\n",
              "      <td>3</td>\n",
              "      <td>20-02-1967</td>\n",
              "      <td>[]</td>\n",
              "    </tr>\n",
              "    <tr>\n",
              "      <th>...</th>\n",
              "      <td>...</td>\n",
              "      <td>...</td>\n",
              "      <td>...</td>\n",
              "    </tr>\n",
              "    <tr>\n",
              "      <th>1142</th>\n",
              "      <td>26724</td>\n",
              "      <td>12-08-1978</td>\n",
              "      <td>[дексаметазон,фрагмин,гепарин,преднизолон,ацц.]</td>\n",
              "    </tr>\n",
              "    <tr>\n",
              "      <th>1143</th>\n",
              "      <td>26637</td>\n",
              "      <td>11-04-1958</td>\n",
              "      <td>[дексаметазон,гепарин,амбраксол,омепразол,эуфи...</td>\n",
              "    </tr>\n",
              "    <tr>\n",
              "      <th>1144</th>\n",
              "      <td>26639</td>\n",
              "      <td>27-05-1952</td>\n",
              "      <td>[пронпозиция,гепарин,ацц,дексаметазон,омепразо...</td>\n",
              "    </tr>\n",
              "    <tr>\n",
              "      <th>1145</th>\n",
              "      <td>26636</td>\n",
              "      <td>26-07-1968</td>\n",
              "      <td>[пронпозиция,кислород.ерапия,дексаметазон,натр...</td>\n",
              "    </tr>\n",
              "    <tr>\n",
              "      <th>1146</th>\n",
              "      <td>26629</td>\n",
              "      <td>21-04-1933</td>\n",
              "      <td>[омепразол,дексаметазон,амброксолацецезон,гепа...</td>\n",
              "    </tr>\n",
              "  </tbody>\n",
              "</table>\n",
              "<p>1147 rows × 3 columns</p>\n",
              "</div>\n",
              "      <button class=\"colab-df-convert\" onclick=\"convertToInteractive('df-53145347-9c1c-4c6d-8661-be688087367b')\"\n",
              "              title=\"Convert this dataframe to an interactive table.\"\n",
              "              style=\"display:none;\">\n",
              "        \n",
              "  <svg xmlns=\"http://www.w3.org/2000/svg\" height=\"24px\"viewBox=\"0 0 24 24\"\n",
              "       width=\"24px\">\n",
              "    <path d=\"M0 0h24v24H0V0z\" fill=\"none\"/>\n",
              "    <path d=\"M18.56 5.44l.94 2.06.94-2.06 2.06-.94-2.06-.94-.94-2.06-.94 2.06-2.06.94zm-11 1L8.5 8.5l.94-2.06 2.06-.94-2.06-.94L8.5 2.5l-.94 2.06-2.06.94zm10 10l.94 2.06.94-2.06 2.06-.94-2.06-.94-.94-2.06-.94 2.06-2.06.94z\"/><path d=\"M17.41 7.96l-1.37-1.37c-.4-.4-.92-.59-1.43-.59-.52 0-1.04.2-1.43.59L10.3 9.45l-7.72 7.72c-.78.78-.78 2.05 0 2.83L4 21.41c.39.39.9.59 1.41.59.51 0 1.02-.2 1.41-.59l7.78-7.78 2.81-2.81c.8-.78.8-2.07 0-2.86zM5.41 20L4 18.59l7.72-7.72 1.47 1.35L5.41 20z\"/>\n",
              "  </svg>\n",
              "      </button>\n",
              "      \n",
              "  <style>\n",
              "    .colab-df-container {\n",
              "      display:flex;\n",
              "      flex-wrap:wrap;\n",
              "      gap: 12px;\n",
              "    }\n",
              "\n",
              "    .colab-df-convert {\n",
              "      background-color: #E8F0FE;\n",
              "      border: none;\n",
              "      border-radius: 50%;\n",
              "      cursor: pointer;\n",
              "      display: none;\n",
              "      fill: #1967D2;\n",
              "      height: 32px;\n",
              "      padding: 0 0 0 0;\n",
              "      width: 32px;\n",
              "    }\n",
              "\n",
              "    .colab-df-convert:hover {\n",
              "      background-color: #E2EBFA;\n",
              "      box-shadow: 0px 1px 2px rgba(60, 64, 67, 0.3), 0px 1px 3px 1px rgba(60, 64, 67, 0.15);\n",
              "      fill: #174EA6;\n",
              "    }\n",
              "\n",
              "    [theme=dark] .colab-df-convert {\n",
              "      background-color: #3B4455;\n",
              "      fill: #D2E3FC;\n",
              "    }\n",
              "\n",
              "    [theme=dark] .colab-df-convert:hover {\n",
              "      background-color: #434B5C;\n",
              "      box-shadow: 0px 1px 3px 1px rgba(0, 0, 0, 0.15);\n",
              "      filter: drop-shadow(0px 1px 2px rgba(0, 0, 0, 0.3));\n",
              "      fill: #FFFFFF;\n",
              "    }\n",
              "  </style>\n",
              "\n",
              "      <script>\n",
              "        const buttonEl =\n",
              "          document.querySelector('#df-53145347-9c1c-4c6d-8661-be688087367b button.colab-df-convert');\n",
              "        buttonEl.style.display =\n",
              "          google.colab.kernel.accessAllowed ? 'block' : 'none';\n",
              "\n",
              "        async function convertToInteractive(key) {\n",
              "          const element = document.querySelector('#df-53145347-9c1c-4c6d-8661-be688087367b');\n",
              "          const dataTable =\n",
              "            await google.colab.kernel.invokeFunction('convertToInteractive',\n",
              "                                                     [key], {});\n",
              "          if (!dataTable) return;\n",
              "\n",
              "          const docLinkHtml = 'Like what you see? Visit the ' +\n",
              "            '<a target=\"_blank\" href=https://colab.research.google.com/notebooks/data_table.ipynb>data table notebook</a>'\n",
              "            + ' to learn more about interactive tables.';\n",
              "          element.innerHTML = '';\n",
              "          dataTable['output_type'] = 'display_data';\n",
              "          await google.colab.output.renderOutput(dataTable, element);\n",
              "          const docLink = document.createElement('div');\n",
              "          docLink.innerHTML = docLinkHtml;\n",
              "          element.appendChild(docLink);\n",
              "        }\n",
              "      </script>\n",
              "    </div>\n",
              "  </div>\n",
              "  "
            ],
            "text/plain": [
              "         ID    birthday                                          treatment\n",
              "0     27389  15-09-1952  [пронпозиция,кислород.ерапия,дексаметазон,омеп...\n",
              "1     27052  06-03-1952  [инфузионнаятерапия,витамин.ерапия,гепарин,дек...\n",
              "2     27071  18-07-1955  [бортезамиб,циклофосфан,дексаметазонв\\в,фуросе...\n",
              "3       887  18-09-1984  [пронпозиция,дексаметазон,омепразол,фраксипари...\n",
              "4         3  20-02-1967                                                 []\n",
              "...     ...         ...                                                ...\n",
              "1142  26724  12-08-1978    [дексаметазон,фрагмин,гепарин,преднизолон,ацц.]\n",
              "1143  26637  11-04-1958  [дексаметазон,гепарин,амбраксол,омепразол,эуфи...\n",
              "1144  26639  27-05-1952  [пронпозиция,гепарин,ацц,дексаметазон,омепразо...\n",
              "1145  26636  26-07-1968  [пронпозиция,кислород.ерапия,дексаметазон,натр...\n",
              "1146  26629  21-04-1933  [омепразол,дексаметазон,амброксолацецезон,гепа...\n",
              "\n",
              "[1147 rows x 3 columns]"
            ]
          },
          "metadata": {},
          "execution_count": 50
        }
      ]
    },
    {
      "cell_type": "code",
      "source": [
        "df.head()"
      ],
      "metadata": {
        "colab": {
          "base_uri": "https://localhost:8080/",
          "height": 206
        },
        "id": "Gn7mtgOWRxmh",
        "outputId": "8120ed24-83da-4981-faed-b985d7292d91"
      },
      "execution_count": 32,
      "outputs": [
        {
          "output_type": "execute_result",
          "data": {
            "text/html": [
              "\n",
              "  <div id=\"df-01d4ce13-8a2c-46c8-b1f3-7b4677381d8e\">\n",
              "    <div class=\"colab-df-container\">\n",
              "      <div>\n",
              "<style scoped>\n",
              "    .dataframe tbody tr th:only-of-type {\n",
              "        vertical-align: middle;\n",
              "    }\n",
              "\n",
              "    .dataframe tbody tr th {\n",
              "        vertical-align: top;\n",
              "    }\n",
              "\n",
              "    .dataframe thead th {\n",
              "        text-align: right;\n",
              "    }\n",
              "</style>\n",
              "<table border=\"1\" class=\"dataframe\">\n",
              "  <thead>\n",
              "    <tr style=\"text-align: right;\">\n",
              "      <th></th>\n",
              "      <th>ID</th>\n",
              "      <th>birthday</th>\n",
              "      <th>treatment</th>\n",
              "    </tr>\n",
              "  </thead>\n",
              "  <tbody>\n",
              "    <tr>\n",
              "      <th>0</th>\n",
              "      <td>27389</td>\n",
              "      <td>15-09-1952</td>\n",
              "      <td>[пронпозиция,кислород.ерапия,дексаметазон,омеп...</td>\n",
              "    </tr>\n",
              "    <tr>\n",
              "      <th>1</th>\n",
              "      <td>27052</td>\n",
              "      <td>06-03-1952</td>\n",
              "      <td>[инфузионнаятерапия,витамин.ерапия,гепарин,дек...</td>\n",
              "    </tr>\n",
              "    <tr>\n",
              "      <th>2</th>\n",
              "      <td>27071</td>\n",
              "      <td>18-07-1955</td>\n",
              "      <td>[бортезамиб,циклофосфан,дексаметазонв\\в,фуросе...</td>\n",
              "    </tr>\n",
              "    <tr>\n",
              "      <th>3</th>\n",
              "      <td>887</td>\n",
              "      <td>18-09-1984</td>\n",
              "      <td>[пронпозиция,дексаметазон,омепразол,фраксипари...</td>\n",
              "    </tr>\n",
              "    <tr>\n",
              "      <th>4</th>\n",
              "      <td>3</td>\n",
              "      <td>20-02-1967</td>\n",
              "      <td>[]</td>\n",
              "    </tr>\n",
              "  </tbody>\n",
              "</table>\n",
              "</div>\n",
              "      <button class=\"colab-df-convert\" onclick=\"convertToInteractive('df-01d4ce13-8a2c-46c8-b1f3-7b4677381d8e')\"\n",
              "              title=\"Convert this dataframe to an interactive table.\"\n",
              "              style=\"display:none;\">\n",
              "        \n",
              "  <svg xmlns=\"http://www.w3.org/2000/svg\" height=\"24px\"viewBox=\"0 0 24 24\"\n",
              "       width=\"24px\">\n",
              "    <path d=\"M0 0h24v24H0V0z\" fill=\"none\"/>\n",
              "    <path d=\"M18.56 5.44l.94 2.06.94-2.06 2.06-.94-2.06-.94-.94-2.06-.94 2.06-2.06.94zm-11 1L8.5 8.5l.94-2.06 2.06-.94-2.06-.94L8.5 2.5l-.94 2.06-2.06.94zm10 10l.94 2.06.94-2.06 2.06-.94-2.06-.94-.94-2.06-.94 2.06-2.06.94z\"/><path d=\"M17.41 7.96l-1.37-1.37c-.4-.4-.92-.59-1.43-.59-.52 0-1.04.2-1.43.59L10.3 9.45l-7.72 7.72c-.78.78-.78 2.05 0 2.83L4 21.41c.39.39.9.59 1.41.59.51 0 1.02-.2 1.41-.59l7.78-7.78 2.81-2.81c.8-.78.8-2.07 0-2.86zM5.41 20L4 18.59l7.72-7.72 1.47 1.35L5.41 20z\"/>\n",
              "  </svg>\n",
              "      </button>\n",
              "      \n",
              "  <style>\n",
              "    .colab-df-container {\n",
              "      display:flex;\n",
              "      flex-wrap:wrap;\n",
              "      gap: 12px;\n",
              "    }\n",
              "\n",
              "    .colab-df-convert {\n",
              "      background-color: #E8F0FE;\n",
              "      border: none;\n",
              "      border-radius: 50%;\n",
              "      cursor: pointer;\n",
              "      display: none;\n",
              "      fill: #1967D2;\n",
              "      height: 32px;\n",
              "      padding: 0 0 0 0;\n",
              "      width: 32px;\n",
              "    }\n",
              "\n",
              "    .colab-df-convert:hover {\n",
              "      background-color: #E2EBFA;\n",
              "      box-shadow: 0px 1px 2px rgba(60, 64, 67, 0.3), 0px 1px 3px 1px rgba(60, 64, 67, 0.15);\n",
              "      fill: #174EA6;\n",
              "    }\n",
              "\n",
              "    [theme=dark] .colab-df-convert {\n",
              "      background-color: #3B4455;\n",
              "      fill: #D2E3FC;\n",
              "    }\n",
              "\n",
              "    [theme=dark] .colab-df-convert:hover {\n",
              "      background-color: #434B5C;\n",
              "      box-shadow: 0px 1px 3px 1px rgba(0, 0, 0, 0.15);\n",
              "      filter: drop-shadow(0px 1px 2px rgba(0, 0, 0, 0.3));\n",
              "      fill: #FFFFFF;\n",
              "    }\n",
              "  </style>\n",
              "\n",
              "      <script>\n",
              "        const buttonEl =\n",
              "          document.querySelector('#df-01d4ce13-8a2c-46c8-b1f3-7b4677381d8e button.colab-df-convert');\n",
              "        buttonEl.style.display =\n",
              "          google.colab.kernel.accessAllowed ? 'block' : 'none';\n",
              "\n",
              "        async function convertToInteractive(key) {\n",
              "          const element = document.querySelector('#df-01d4ce13-8a2c-46c8-b1f3-7b4677381d8e');\n",
              "          const dataTable =\n",
              "            await google.colab.kernel.invokeFunction('convertToInteractive',\n",
              "                                                     [key], {});\n",
              "          if (!dataTable) return;\n",
              "\n",
              "          const docLinkHtml = 'Like what you see? Visit the ' +\n",
              "            '<a target=\"_blank\" href=https://colab.research.google.com/notebooks/data_table.ipynb>data table notebook</a>'\n",
              "            + ' to learn more about interactive tables.';\n",
              "          element.innerHTML = '';\n",
              "          dataTable['output_type'] = 'display_data';\n",
              "          await google.colab.output.renderOutput(dataTable, element);\n",
              "          const docLink = document.createElement('div');\n",
              "          docLink.innerHTML = docLinkHtml;\n",
              "          element.appendChild(docLink);\n",
              "        }\n",
              "      </script>\n",
              "    </div>\n",
              "  </div>\n",
              "  "
            ],
            "text/plain": [
              "      ID    birthday                                          treatment\n",
              "0  27389  15-09-1952  [пронпозиция,кислород.ерапия,дексаметазон,омеп...\n",
              "1  27052  06-03-1952  [инфузионнаятерапия,витамин.ерапия,гепарин,дек...\n",
              "2  27071  18-07-1955  [бортезамиб,циклофосфан,дексаметазонв\\в,фуросе...\n",
              "3    887  18-09-1984  [пронпозиция,дексаметазон,омепразол,фраксипари...\n",
              "4      3  20-02-1967                                                 []"
            ]
          },
          "metadata": {},
          "execution_count": 32
        }
      ]
    },
    {
      "cell_type": "code",
      "source": [
        "df.to_csv(\"treatment_raw_edition.csv\")"
      ],
      "metadata": {
        "id": "ricQ8J-SQup4"
      },
      "execution_count": 28,
      "outputs": []
    },
    {
      "cell_type": "code",
      "source": [
        "df[\"Treatment\"] = df[\"treatment\"].apply(lambda x: ' '.join(dict.fromkeys(x).keys()))"
      ],
      "metadata": {
        "id": "suCDn6hxRQqN"
      },
      "execution_count": 51,
      "outputs": []
    },
    {
      "cell_type": "code",
      "source": [
        "df[\"Treatment\"] = df[\"Treatment\"].values.astype('str')"
      ],
      "metadata": {
        "id": "NKFJTPyFTWbL"
      },
      "execution_count": 53,
      "outputs": []
    },
    {
      "cell_type": "code",
      "source": [
        "df[\"Treatment\"]"
      ],
      "metadata": {
        "colab": {
          "base_uri": "https://localhost:8080/"
        },
        "id": "t1mnS4-DSqjG",
        "outputId": "92bf4cda-1772-437d-ef6c-25cf1884c4b6"
      },
      "execution_count": 54,
      "outputs": [
        {
          "output_type": "execute_result",
          "data": {
            "text/plain": [
              "0       пронпозиция,кислород.ерапия,дексаметазон,омепр...\n",
              "1       инфузионнаятерапия,витамин.ерапия,гепарин,декс...\n",
              "2       бортезамиб,циклофосфан,дексаметазонв\\в,фуросем...\n",
              "3       пронпозиция,дексаметазон,омепразол,фраксипарин...\n",
              "4                                                        \n",
              "                              ...                        \n",
              "1142        дексаметазон,фрагмин,гепарин,преднизолон,ацц.\n",
              "1143    дексаметазон,гепарин,амбраксол,омепразол,эуфил...\n",
              "1144    пронпозиция,гепарин,ацц,дексаметазон,омепразол...\n",
              "1145    пронпозиция,кислород.ерапия,дексаметазон,натри...\n",
              "1146    омепразол,дексаметазон,амброксолацецезон,гепар...\n",
              "Name: Treatment, Length: 1147, dtype: object"
            ]
          },
          "metadata": {},
          "execution_count": 54
        }
      ]
    },
    {
      "cell_type": "code",
      "source": [
        "import re\n",
        "import nltk\n",
        "import string\n",
        "PUNCT_TO_REMOVE = string.punctuation\n",
        "def remove_punctuation(text):\n",
        "    \"\"\"custom function to remove the punctuation\"\"\"\n",
        "    return text.translate(str.maketrans('', '', PUNCT_TO_REMOVE))\n",
        "\n",
        "df[\"Treatment\"] = df[\"Treatment\"].apply(lambda text: remove_punctuation(text))\n"
      ],
      "metadata": {
        "id": "S1FZPFfZS7UC"
      },
      "execution_count": 46,
      "outputs": []
    },
    {
      "cell_type": "code",
      "source": [
        "stopwords = \"свой, витс, ммольл, крови,ммольл,в,по,18122020,время, вв\"\n",
        "\n",
        "     "
      ],
      "metadata": {
        "id": "l_HmbCjWTERx"
      },
      "execution_count": 55,
      "outputs": []
    },
    {
      "cell_type": "code",
      "source": [
        "def remove_stopwords(text):\n",
        "    \"\"\"custom function to remove the stopwords\"\"\"\n",
        "    return \" \".join([word for word in str(text).split() if word not in \\\n",
        "                     stopwords])\n",
        "df[\"Treatment\"] = df[\"Treatment\"].apply(lambda text: remove_stopwords(text))"
      ],
      "metadata": {
        "id": "3yTBOkhfTGqT"
      },
      "execution_count": 56,
      "outputs": []
    },
    {
      "cell_type": "code",
      "source": [
        "df[\"Treatment\"]"
      ],
      "metadata": {
        "colab": {
          "base_uri": "https://localhost:8080/"
        },
        "id": "wCUj3Uf2Ukop",
        "outputId": "298369f0-ecb6-44cb-e78e-503c3aa1a862"
      },
      "execution_count": 59,
      "outputs": [
        {
          "output_type": "execute_result",
          "data": {
            "text/plain": [
              "0       пронпозиция,кислород.ерапия,дексаметазон,омепр...\n",
              "1       инфузионнаятерапия,витамин.ерапия,гепарин,декс...\n",
              "2       бортезамиб,циклофосфан,дексаметазонв\\в,фуросем...\n",
              "3       пронпозиция,дексаметазон,омепразол,фраксипарин...\n",
              "4                                                        \n",
              "                              ...                        \n",
              "1142        дексаметазон,фрагмин,гепарин,преднизолон,ацц.\n",
              "1143    дексаметазон,гепарин,амбраксол,омепразол,эуфил...\n",
              "1144    пронпозиция,гепарин,ацц,дексаметазон,омепразол...\n",
              "1145    пронпозиция,кислород.ерапия,дексаметазон,натри...\n",
              "1146    омепразол,дексаметазон,амброксолацецезон,гепар...\n",
              "Name: Treatment, Length: 1147, dtype: object"
            ]
          },
          "metadata": {},
          "execution_count": 59
        }
      ]
    },
    {
      "cell_type": "code",
      "source": [
        "from collections import Counter\n",
        "cnt = Counter()\n",
        "for text in df[\"Treatment\"].values:\n",
        "    for word in text.split():\n",
        "        cnt[word] += 1\n",
        "        \n",
        "cnt.most_common(100)"
      ],
      "metadata": {
        "id": "YEOkEIfrTNl8"
      },
      "execution_count": null,
      "outputs": []
    },
    {
      "cell_type": "code",
      "source": [
        "tt = df[\"Treatment\"][:5]"
      ],
      "metadata": {
        "id": "k2vukP9LUwDL"
      },
      "execution_count": 63,
      "outputs": []
    },
    {
      "cell_type": "code",
      "source": [
        "for word in tt.values.split():\n",
        "  print(word)"
      ],
      "metadata": {
        "colab": {
          "base_uri": "https://localhost:8080/",
          "height": 182
        },
        "id": "BEQpwQeUU3JY",
        "outputId": "a9de00c5-5c2f-46a3-e4c1-eab47b0194e6"
      },
      "execution_count": 69,
      "outputs": [
        {
          "output_type": "error",
          "ename": "AttributeError",
          "evalue": "ignored",
          "traceback": [
            "\u001b[0;31m---------------------------------------------------------------------------\u001b[0m",
            "\u001b[0;31mAttributeError\u001b[0m                            Traceback (most recent call last)",
            "\u001b[0;32m<ipython-input-69-40f628ba078a>\u001b[0m in \u001b[0;36m<module>\u001b[0;34m()\u001b[0m\n\u001b[0;32m----> 1\u001b[0;31m \u001b[0;32mfor\u001b[0m \u001b[0mword\u001b[0m \u001b[0;32min\u001b[0m \u001b[0mtt\u001b[0m\u001b[0;34m.\u001b[0m\u001b[0mvalues\u001b[0m\u001b[0;34m.\u001b[0m\u001b[0msplit\u001b[0m\u001b[0;34m(\u001b[0m\u001b[0;34m)\u001b[0m\u001b[0;34m:\u001b[0m\u001b[0;34m\u001b[0m\u001b[0;34m\u001b[0m\u001b[0m\n\u001b[0m\u001b[1;32m      2\u001b[0m   \u001b[0mprint\u001b[0m\u001b[0;34m(\u001b[0m\u001b[0mword\u001b[0m\u001b[0;34m)\u001b[0m\u001b[0;34m\u001b[0m\u001b[0;34m\u001b[0m\u001b[0m\n",
            "\u001b[0;31mAttributeError\u001b[0m: 'numpy.ndarray' object has no attribute 'split'"
          ]
        }
      ]
    }
  ]
}