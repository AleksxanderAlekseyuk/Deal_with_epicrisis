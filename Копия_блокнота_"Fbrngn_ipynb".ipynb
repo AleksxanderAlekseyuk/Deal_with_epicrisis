{
  "nbformat": 4,
  "nbformat_minor": 0,
  "metadata": {
    "colab": {
      "name": "Копия блокнота \"Fbrngn.ipynb\"",
      "provenance": [],
      "collapsed_sections": [],
      "include_colab_link": true
    },
    "kernelspec": {
      "name": "python3",
      "display_name": "Python 3"
    },
    "language_info": {
      "name": "python"
    }
  },
  "cells": [
    {
      "cell_type": "markdown",
      "metadata": {
        "id": "view-in-github",
        "colab_type": "text"
      },
      "source": [
        "<a href=\"https://colab.research.google.com/github/AlexAlexeyuk/Deal_with_epicrisis/blob/main/%D0%9A%D0%BE%D0%BF%D0%B8%D1%8F_%D0%B1%D0%BB%D0%BE%D0%BA%D0%BD%D0%BE%D1%82%D0%B0_%22Fbrngn_ipynb%22.ipynb\" target=\"_parent\"><img src=\"https://colab.research.google.com/assets/colab-badge.svg\" alt=\"Open In Colab\"/></a>"
      ]
    },
    {
      "cell_type": "code",
      "metadata": {
        "id": "Wps7OwH9itIC"
      },
      "source": [
        "import re\n",
        "from re import sub\n",
        "import os\n",
        "import pandas as pd\n",
        "import numpy as np\n",
        "from glob import glob"
      ],
      "execution_count": null,
      "outputs": []
    },
    {
      "cell_type": "code",
      "metadata": {
        "id": "Zbfu8muLCYx5"
      },
      "source": [
        "# было бы лучше здесь инициализировать функцию change_date_format, и затем ей пользоваться,\n",
        "# просто в таком варианте придётся несколько раз использовать, учитывая, что мы делаем таблицу для каждого значения. \n",
        "# надо стараться давать говорящие что-то имена в циклах фор \n",
        "# желательно сделать функцию, которая делает всю грязную работу сразу: удаляет запятые, чистит пробелы, убирает стоп слова\n",
        "# типа: от, менее, за, знаки > <  и проч. "
      ],
      "execution_count": null,
      "outputs": []
    },
    {
      "cell_type": "code",
      "metadata": {
        "id": "HrkgniFJqGIk"
      },
      "source": [
        "lst = list(glob(os.path.join('/content/drive/MyDrive/прок', '*')))\n",
        "dates = []\n",
        "values = []\n",
        "id_list = []\n",
        "for doc in lst:\n",
        "   with open(doc, encoding='utf-8', errors='ignore') as f:\n",
        "     file_ = (sub(r',', '.', ''.join(f.read().split()).lower())\n",
        "     file_ = sub(r'от', '', file_)\n",
        "     file_ =  sub(r'(0?[1-9]|[12]\\d|30|31)[.](0?[1-9]|1[0-2])[.](\\d{4})', \n",
        "                     '\\\\1-\\\\2-\\\\3', file_)\n",
        "     file_ = sub(r'(0?[1-9]|[12]\\d|30|31)[.](0?[1-9]|1[0-2])[.](\\d{2})',\n",
        "                    '\\\\1-\\\\2-20\\\\3', file_)\n",
        "     file_ = sub(r'(\\d{2}-\\d{2}-\\d{4})(гемостазиограмма)', r'\\2\\1', file_) #ставим дату после гемостазиограммы, чтобы проще было искать по одному шаблону.\n",
        "     for date in re.findall(r'(?<=гемостазиограмма)(\\d{2}-\\d{2}-\\d{4}|)', file_): #поиск дат, которые идут после гемост-ы.\n",
        "       dates.append(date)\n",
        "       id = re.search(r'\\d+', file_) #ищем айди. находит самую первую дату в эпикризе. !!! есть эпикризы в которых первые цифры это номер отделения, типа онко отд. №2\n",
        "       if id:\n",
        "         id_list.append(id[0])\n",
        "     file_1 = sub(r'(гемостазиограмма)(\\d{2}-\\d{2}-\\d{4})', r'\\2\\1', file_) #здесь наоборот ставим дату ПЕРЕД гемост-ой, чтобы она нам не мешала. тк вариант типа \"гемостазиограмма27-09-2021:ачтв..\" не даст результата.\n",
        "     for value in re.findall(r'(гемостазиограмма.*?)(?=\\d{2}-\\d{2}-\\d{4})', file_1): #задаем поиск строки от гемост-ы до даты другого исследования, при этом НЕ захватываются данные других иссл-ий.\n",
        "       value = sub(r'(.*)(фибриноген)(\\d.\\d*)', r'\\3\\2\\1', value) #в найденной строке меняем местами необходимые данные. новая строка имеет вид: 4,66фибриногенгемостазиограмма:ачтв24мно1,20...\n",
        "       value = sub(r'(фибриноген|гемостазиограмма).*', '', value) #удаляем все, что после фибриногена и/или гемост-ы включительно, оставляя лишь число. если его нет - пустая строка.\n",
        "       values.append(n) # а здесь почему-то не могу применить float/np.float. хотя во всем числах запятые заменены на точки. пишет - ValueError: could not convert string to float: "
      ],
      "execution_count": null,
      "outputs": []
    },
    {
      "cell_type": "code",
      "metadata": {
        "colab": {
          "base_uri": "https://localhost:8080/",
          "height": 424
        },
        "id": "_tHKf6FJhjqO",
        "outputId": "c098d287-b254-46eb-fac3-ec1e5f2a0df1"
      },
      "source": [
        "data_dct = {'ID':id_list, 'dates':dates,'values':values}\n",
        "df = pd.DataFrame(data_dct)\n",
        "df.replace(r'', np.nan, regex=True)"
      ],
      "execution_count": null,
      "outputs": [
        {
          "output_type": "execute_result",
          "data": {
            "text/html": [
              "<div>\n",
              "<style scoped>\n",
              "    .dataframe tbody tr th:only-of-type {\n",
              "        vertical-align: middle;\n",
              "    }\n",
              "\n",
              "    .dataframe tbody tr th {\n",
              "        vertical-align: top;\n",
              "    }\n",
              "\n",
              "    .dataframe thead th {\n",
              "        text-align: right;\n",
              "    }\n",
              "</style>\n",
              "<table border=\"1\" class=\"dataframe\">\n",
              "  <thead>\n",
              "    <tr style=\"text-align: right;\">\n",
              "      <th></th>\n",
              "      <th>ID</th>\n",
              "      <th>dates</th>\n",
              "      <th>values</th>\n",
              "    </tr>\n",
              "  </thead>\n",
              "  <tbody>\n",
              "    <tr>\n",
              "      <th>0</th>\n",
              "      <td>2839</td>\n",
              "      <td>29-06-2020</td>\n",
              "      <td>7.64</td>\n",
              "    </tr>\n",
              "    <tr>\n",
              "      <th>1</th>\n",
              "      <td>2839</td>\n",
              "      <td>06-07-2020</td>\n",
              "      <td>5.31</td>\n",
              "    </tr>\n",
              "    <tr>\n",
              "      <th>2</th>\n",
              "      <td>2839</td>\n",
              "      <td>08-07-2020</td>\n",
              "      <td>5.56</td>\n",
              "    </tr>\n",
              "    <tr>\n",
              "      <th>3</th>\n",
              "      <td>2839</td>\n",
              "      <td>14-07-2020</td>\n",
              "      <td>3.69</td>\n",
              "    </tr>\n",
              "    <tr>\n",
              "      <th>4</th>\n",
              "      <td>2839</td>\n",
              "      <td>17-07-2020</td>\n",
              "      <td>NaN</td>\n",
              "    </tr>\n",
              "    <tr>\n",
              "      <th>...</th>\n",
              "      <td>...</td>\n",
              "      <td>...</td>\n",
              "      <td>...</td>\n",
              "    </tr>\n",
              "    <tr>\n",
              "      <th>177</th>\n",
              "      <td>2940</td>\n",
              "      <td>23-07-2020</td>\n",
              "      <td>5.1</td>\n",
              "    </tr>\n",
              "    <tr>\n",
              "      <th>178</th>\n",
              "      <td>3535</td>\n",
              "      <td>07-09-2020</td>\n",
              "      <td>2.34</td>\n",
              "    </tr>\n",
              "    <tr>\n",
              "      <th>179</th>\n",
              "      <td>3535</td>\n",
              "      <td>10-09-2020</td>\n",
              "      <td>6.16</td>\n",
              "    </tr>\n",
              "    <tr>\n",
              "      <th>180</th>\n",
              "      <td>3535</td>\n",
              "      <td>14-09-2020</td>\n",
              "      <td>6.6</td>\n",
              "    </tr>\n",
              "    <tr>\n",
              "      <th>181</th>\n",
              "      <td>4710</td>\n",
              "      <td>10-11-2020</td>\n",
              "      <td>5.84</td>\n",
              "    </tr>\n",
              "  </tbody>\n",
              "</table>\n",
              "<p>182 rows × 3 columns</p>\n",
              "</div>"
            ],
            "text/plain": [
              "       ID       dates values\n",
              "0    2839  29-06-2020   7.64\n",
              "1    2839  06-07-2020   5.31\n",
              "2    2839  08-07-2020   5.56\n",
              "3    2839  14-07-2020   3.69\n",
              "4    2839  17-07-2020    NaN\n",
              "..    ...         ...    ...\n",
              "177  2940  23-07-2020    5.1\n",
              "178  3535  07-09-2020   2.34\n",
              "179  3535  10-09-2020   6.16\n",
              "180  3535  14-09-2020    6.6\n",
              "181  4710  10-11-2020   5.84\n",
              "\n",
              "[182 rows x 3 columns]"
            ]
          },
          "metadata": {},
          "execution_count": 19
        }
      ]
    },
    {
      "cell_type": "code",
      "metadata": {
        "id": "aMzL_h9Z20To"
      },
      "source": [
        "df.to_csv('data.csv')"
      ],
      "execution_count": null,
      "outputs": []
    },
    {
      "cell_type": "code",
      "metadata": {
        "id": "MpaSEfZhdp3s"
      },
      "source": [
        ""
      ],
      "execution_count": null,
      "outputs": []
    }
  ]
}