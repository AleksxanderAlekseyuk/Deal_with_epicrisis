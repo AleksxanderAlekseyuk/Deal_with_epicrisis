{
 "cells": [
  {
   "cell_type": "code",
   "execution_count": 1,
   "id": "1e1d730f",
   "metadata": {},
   "outputs": [],
   "source": [
    "from re import sub, search, findall\n",
    "import os\n",
    "import pandas as pd\n",
    "import numpy as np\n",
    "from glob import glob"
   ]
  },
  {
   "cell_type": "code",
   "execution_count": 2,
   "id": "53781097",
   "metadata": {},
   "outputs": [],
   "source": [
    "lst = list(glob(os.path.join('c:/Users/Alex/D/phd/R/test', '*.txt')))"
   ]
  },
  {
   "cell_type": "code",
   "execution_count": null,
   "id": "adc35f05",
   "metadata": {},
   "outputs": [],
   "source": []
  },
  {
   "cell_type": "code",
   "execution_count": 3,
   "id": "fefbf658",
   "metadata": {},
   "outputs": [],
   "source": [
    "def remover(file_):\n",
    "    file_ = ''.join(file_.split()).lower()\n",
    "    stop_element = [',|от|менее|<|>|автоматическая|ручная|[(]|[)]'\n",
    "                    '|меньше|меньшн|больше|более|менее|iultra|от|[wbc]']\n",
    "    for elem in stop_element:\n",
    "      if elem == ',':\n",
    "        file_ = sub(elem, '.', file_)\n",
    "      else:\n",
    "        file_ = sub(elem, '', file_)\n",
    "    return(file_)"
   ]
  },
  {
   "cell_type": "code",
   "execution_count": 4,
   "id": "3994b1ac",
   "metadata": {},
   "outputs": [],
   "source": [
    "def change_date_format(dt):\n",
    "    \"\"\" на первом этапе переводим \"нормальный формат\" в формат через дефисы\n",
    "     на втором этапе ищем вариант дд.мм.гг в формат через дефисы\"\"\"\n",
    "    data_1 =  sub(r'(0?[1-9]|[12]\\d|30|31)[.](0?[1-9]|1[0-2])[.](\\d{4})',\n",
    "                     '\\\\1-\\\\2-\\\\3', dt)\n",
    "    return sub(r'(0?[1-9]|[12]\\d|30|31)[.](0?[1-9]|1[0-2])[.](\\d{2})',\n",
    "                  '\\\\1-\\\\2-20\\\\3', data_1)"
   ]
  },
  {
   "cell_type": "code",
   "execution_count": 34,
   "id": "8bbef86f",
   "metadata": {},
   "outputs": [],
   "source": [
    "class DataExtractor:\n",
    "    def __init__(self, list_of_epicrisis, test_dates = [], values = [], patients_id = [], patients_birthday = [], data_dct = {}):\n",
    "        self.list_of_epicrisis = list_of_epicrisis\n",
    "        self.test_dates = test_dates\n",
    "        self.values = values\n",
    "        self.patients_id = patients_id\n",
    "        self.patients_birthday = patients_birthday\n",
    "        self.data_dct = data_dct\n",
    "   \n",
    "        \n",
    "    def fibrinogen(self):\n",
    "        \"\"\"fibrinogen\n",
    "\n",
    "        params:\n",
    "            list_of_epicrisis - list of txt files \n",
    "            test_dates - dates of fibrinogen test\n",
    "            values - fibrinogen values\n",
    "            patients_id - # case report\n",
    "            patients_birthday\n",
    "\n",
    "        returns:\n",
    "            dataframe contains fibrinogen data\n",
    "        \"\"\"\n",
    "        for doc in self.list_of_epicrisis:\n",
    "          with open(doc, encoding='utf-8', errors='ignore') as file_:\n",
    "            file_ = change_date_format(remover(file_.read()))\n",
    "            file_ = sub(r'(\\d{2}-\\d{2}-\\d{4})(гемостазиограмма)', r'\\2\\1', file_) #ставим дату после гемостазиограммы, чтобы проще было искать по одному шаблону.\n",
    "            for date in findall(r'(?<=гемостазиограмма)(\\d{2}-\\d{2}-\\d{4}|)', file_): #поиск дат, которые идут после гемост-ы.\n",
    "              self.test_dates.append(date)\n",
    "              id = search(r'\\d+', file_) #ищем айди. находит самую первую дату в эпикризе. !!! есть эпикризы в которых первые цифры это номер отделения, типа онко отд. №2\n",
    "              if id:\n",
    "                    self.patients_id.append(id[0])\n",
    "              birthday = search(\"(\\d{2})-(\\d{2})-(\\d{4})\", file_)\n",
    "              if birthday:\n",
    "                    self.patients_birthday.append(birthday[0])\n",
    "            file_1 = sub(r'(гемостазиограмма)(\\d{2}-\\d{2}-\\d{4})', r'\\2\\1', file_) #здесь наоборот ставим дату ПЕРЕД гемост-ой, чтобы она нам не мешала. тк вариант типа \"гемостазиограмма27-09-2021:ачтв..\" не даст результата.\n",
    "            for value in findall(r'(гемостазиограмма.*?)(?=\\d{2}-\\d{2}-\\d{4})', file_1): #задаем поиск строки от гемост-ы до даты другого исследования, при этом НЕ захватываются данные других иссл-ий.\n",
    "              value = sub(r'(.*)(фибриноген)(\\d.\\d*)', r'\\3\\2\\1', value) #в найденной строке меняем местами необходимые данные. новая строка имеет вид: 4,66фибриногенгемостазиограмма:ачтв24мно1,20...\n",
    "              value = sub(r'(фибриноген|гемостазиограмма).*', '', value)\n",
    "              if value: #удаляем все, что после фибриногена и/или гемост-ы включительно, оставляя лишь число. если его нет - пустая строка.\n",
    "                  self.values.append(value)\n",
    "              else:\n",
    "                  self.values.append('NaN') #удаляем все, что после фибриногена и/или гемост-ы включительно, оставляя лишь число. если его нет - пустая строка.\n",
    "               # а здесь почему-то не могу применить float/np.float. хотя во всем числах запятые заменены на точки. пишет - ValueError: could not convert string to float: \n",
    "        self.data_dct = {'ID':self.patients_id, 'Birthday':self.patients_birthday, 'dates':self.test_dates,'values':self.values}\n",
    "        df = pd.DataFrame(self.data_dct)\n",
    "        df = df.replace(r'', np.nan, regex=True)\n",
    "        return(df)\n",
    "    \n",
    "    \n",
    "    \n",
    "    \n",
    "    def C_reactive_protein(self):\n",
    "        \"\"\"C_reactive_protein\n",
    "\n",
    "            params:\n",
    "                list_of_epicrisis - list of txt files \n",
    "                test_dates - dates of C_reactive_protein test\n",
    "                values - C_reactive_protein values\n",
    "                patients_id - # case report\n",
    "                patients_birthday\n",
    "\n",
    "            returns:\n",
    "                dataframe contains C_reactive_protein data\n",
    "        \"\"\"\n",
    "        for doc in self.list_of_epicrisis:\n",
    "          with open(doc, encoding='utf-8', errors='ignore') as file_:\n",
    "            file_ = change_date_format(remover(file_.read()))\n",
    "            file_ = sub(r'(\\d{2}-\\d{2}-\\d{4})(биохимическоеисследованиекрови)', r'\\2\\1', file_) #ставим дату после гемостазиограммы, чтобы проще было искать по одному шаблону.\n",
    "            for date in findall(r'(?<=биохимическоеисследованиекрови)(\\d{2}-\\d{2}-\\d{4}|)', file_): #поиск дат, которые идут после гемост-ы.\n",
    "              self.test_dates.append(date)\n",
    "              id = search(r'\\d+', file_) #ищем айди. находит самую первую дату в эпикризе. !!! есть эпикризы в которых первые цифры это номер отделения, типа онко отд. №2\n",
    "              if id:\n",
    "                    self.patients_id.append(id[0])\n",
    "              birthday = search(\"(\\d{2})-(\\d{2})-(\\d{4})\", file_)\n",
    "              if birthday:\n",
    "                    self.patients_birthday.append(birthday[0])\n",
    "            file_1 = sub(r'(биохимическоеисследованиекрови)(\\d{2}-\\d{2}-\\d{4})', r'\\2\\1', file_) #здесь наоборот ставим дату ПЕРЕД гемост-ой, чтобы она нам не мешала. тк вариант типа \"гемостазиограмма27-09-2021:ачтв..\" не даст результата.\n",
    "            for value in findall(r'(биохимическоеисследованиекрови.*?)(?=\\d{2}-\\d{2}-\\d{4})', file_1): #задаем поиск строки от гемост-ы до даты другого исследования, при этом НЕ захватываются данные других иссл-ий.\n",
    "              value = sub(r'(.*)(.-реактивныйбелок)(\\d.\\d*)', r'\\3\\2\\1', value) #в найденной строке меняем местами необходимые данные. новая строка имеет вид: 4,66фибриногенгемостазиограмма:ачтв24мно1,20...\n",
    "              value = sub(r'(.-реактивныйбелок|биохимическоеисследованиекрови).*', '', value)\n",
    "              if value: #удаляем все, что после фибриногена и/или гемост-ы включительно, оставляя лишь число. если его нет - пустая строка.\n",
    "                  self.values.append(value)\n",
    "              else:\n",
    "                  self.values.append('NaN') #удаляем все, что после фибриногена и/или гемост-ы включительно, оставляя лишь число. если его нет - пустая строка.\n",
    "               # а здесь почему-то не могу применить float/np.float. хотя во всем числах запятые заменены на точки. пишет - ValueError: could not convert string to float: \n",
    "        self.data_dct = {'ID':self.patients_id, 'Birthday':self.patients_birthday, 'dates':self.test_dates,'values':self.values}\n",
    "        df = pd.DataFrame(self.data_dct)\n",
    "        df = df.replace(r'', np.nan, regex=True)\n",
    "        return(df)\n",
    "    \n",
    "    \n",
    "    def creatinine(self):\n",
    "        \"\"\"creatinine\n",
    "\n",
    "            params:\n",
    "                list_of_epicrisis - list of txt files \n",
    "                test_dates - dates of creatinine test\n",
    "                values - creatinine values\n",
    "                patients_id - # case report\n",
    "                patients_birthday\n",
    "\n",
    "            returns:\n",
    "                dataframe contains creatinine data\n",
    "        \"\"\"\n",
    "        for doc in self.list_of_epicrisis:\n",
    "          with open(doc, encoding='utf-8', errors='ignore') as file_:\n",
    "            file_ = change_date_format(remover(file_.read()))\n",
    "            file_ = sub(r'(\\d{2}-\\d{2}-\\d{4})(биохимическоеисследованиекрови)', r'\\2\\1', file_) #ставим дату после гемостазиограммы, чтобы проще было искать по одному шаблону.\n",
    "            for date in findall(r'(?<=биохимическоеисследованиекрови)(\\d{2}-\\d{2}-\\d{4}|)', file_): #поиск дат, которые идут после гемост-ы.\n",
    "              self.test_dates.append(date)\n",
    "              id = search(r'\\d+', file_) #ищем айди. находит самую первую дату в эпикризе. !!! есть эпикризы в которых первые цифры это номер отделения, типа онко отд. №2\n",
    "              if id:\n",
    "                    self.patients_id.append(id[0])\n",
    "              birthday = search(\"(\\d{2})-(\\d{2})-(\\d{4})\", file_)\n",
    "              if birthday:\n",
    "                    self.patients_birthday.append(birthday[0])\n",
    "            file_1 = sub(r'(биохимическоеисследованиекрови)(\\d{2}-\\d{2}-\\d{4})', r'\\2\\1', file_) #здесь наоборот ставим дату ПЕРЕД гемост-ой, чтобы она нам не мешала. тк вариант типа \"гемостазиограмма27-09-2021:ачтв..\" не даст результата.\n",
    "            for value in findall(r'(биохимическоеисследованиекрови.*?)(?=\\d{2}-\\d{2}-\\d{4})', file_1): #задаем поиск строки от гемост-ы до даты другого исследования, при этом НЕ захватываются данные других иссл-ий.\n",
    "              value = sub(r'(.*)(кр.....ин)(\\d.\\d*)', r'\\3\\2\\1', value) #в найденной строке меняем местами необходимые данные. новая строка имеет вид: 4,66фибриногенгемостазиограмма:ачтв24мно1,20...\n",
    "              value = sub(r'(кр.....ин|биохимическоеисследованиекрови).*', '', value)\n",
    "              if value: #удаляем все, что после фибриногена и/или гемост-ы включительно, оставляя лишь число. если его нет - пустая строка.\n",
    "                  self.values.append(value)\n",
    "              else:\n",
    "                  self.values.append('NaN') #удаляем все, что после фибриногена и/или гемост-ы включительно, оставляя лишь число. если его нет - пустая строка.\n",
    "               # а здесь почему-то не могу применить float/np.float. хотя во всем числах запятые заменены на точки. пишет - ValueError: could not convert string to float: \n",
    "        self.data_dct = {'ID':self.patients_id, 'Birthday':self.patients_birthday, 'dates':self.test_dates,'values':self.values}\n",
    "        df = pd.DataFrame(self.data_dct)\n",
    "        df = df.replace(r'', np.nan, regex=True)\n",
    "        return(df)\n",
    "    \n",
    "    \n",
    "    \n",
    "    def AST(self):\n",
    "        \"\"\"AST\n",
    "\n",
    "            params:\n",
    "                list_of_epicrisis - list of txt files \n",
    "                test_dates - dates of AST test\n",
    "                values - AST values\n",
    "                patients_id - # case report\n",
    "                patients_birthday\n",
    "\n",
    "            returns:\n",
    "                dataframe contains ALT data\n",
    "        \"\"\"\n",
    "        for doc in self.list_of_epicrisis:\n",
    "          with open(doc, encoding='utf-8', errors='ignore') as file_:\n",
    "            file_ = change_date_format(remover(file_.read()))\n",
    "            file_ = sub(r'(\\d{2}-\\d{2}-\\d{4})(биохимическоеисследованиекрови)', r'\\2\\1', file_) #ставим дату после гемостазиограммы, чтобы проще было искать по одному шаблону.\n",
    "            for date in findall(r'(?<=биохимическоеисследованиекрови)(\\d{2}-\\d{2}-\\d{4}|)', file_): #поиск дат, которые идут после гемост-ы.\n",
    "              self.test_dates.append(date)\n",
    "              id = search(r'\\d+', file_) #ищем айди. находит самую первую дату в эпикризе. !!! есть эпикризы в которых первые цифры это номер отделения, типа онко отд. №2\n",
    "              if id:\n",
    "                    self.patients_id.append(id[0])\n",
    "              birthday = search(\"(\\d{2})-(\\d{2})-(\\d{4})\", file_)\n",
    "              if birthday:\n",
    "                    self.patients_birthday.append(birthday[0])\n",
    "            file_1 = sub(r'(биохимическоеисследованиекрови)(\\d{2}-\\d{2}-\\d{4})', r'\\2\\1', file_) #здесь наоборот ставим дату ПЕРЕД гемост-ой, чтобы она нам не мешала. тк вариант типа \"гемостазиограмма27-09-2021:ачтв..\" не даст результата.\n",
    "            for value in findall(r'(биохимическоеисследованиекрови.*?)(?=\\d{2}-\\d{2}-\\d{4})', file_1): #задаем поиск строки от гемост-ы до даты другого исследования, при этом НЕ захватываются данные других иссл-ий.\n",
    "              value = sub(r'(.*)(аспартатаминрансфераза)(\\d.\\d*)', r'\\3\\2\\1', value) #в найденной строке меняем местами необходимые данные. новая строка имеет вид: 4,66фибриногенгемостазиограмма:ачтв24мно1,20...\n",
    "              value = sub(r'(аспартатаминрансфераза|биохимическоеисследованиекрови).*', '', value)\n",
    "              if value: #удаляем все, что после фибриногена и/или гемост-ы включительно, оставляя лишь число. если его нет - пустая строка.\n",
    "                  self.values.append(value)\n",
    "              else:\n",
    "                  self.values.append('NaN') #удаляем все, что после фибриногена и/или гемост-ы включительно, оставляя лишь число. если его нет - пустая строка.\n",
    "               # а здесь почему-то не могу применить float/np.float. хотя во всем числах запятые заменены на точки. пишет - ValueError: could not convert string to float: \n",
    "        self.data_dct = {'ID':self.patients_id, 'Birthday':self.patients_birthday, 'dates':self.test_dates,'values':self.values}\n",
    "        df = pd.DataFrame(self.data_dct)\n",
    "        df = df.replace(r'', np.nan, regex=True)\n",
    "        return(df)\n",
    "    \n",
    "    \n",
    "    \n",
    "    def ALT(self):\n",
    "        \"\"\"ALT\n",
    "\n",
    "            params:\n",
    "                list_of_epicrisis - list of txt files \n",
    "                test_dates - dates of ALT test\n",
    "                values - ALT values\n",
    "                patients_id - # case report\n",
    "                patients_birthday\n",
    "\n",
    "            returns:\n",
    "                dataframe contains ALT data\n",
    "        \"\"\"\n",
    "        for doc in self.list_of_epicrisis:\n",
    "          with open(doc, encoding='utf-8', errors='ignore') as file_:\n",
    "            file_ = change_date_format(remover(file_.read()))\n",
    "            file_ = sub(r'(\\d{2}-\\d{2}-\\d{4})(биохимическоеисследованиекрови)', r'\\2\\1', file_) #ставим дату после гемостазиограммы, чтобы проще было искать по одному шаблону.\n",
    "            for date in findall(r'(?<=биохимическоеисследованиекрови)(\\d{2}-\\d{2}-\\d{4}|)', file_): #поиск дат, которые идут после гемост-ы.\n",
    "              self.test_dates.append(date)\n",
    "              id = search(r'\\d+', file_) #ищем айди. находит самую первую дату в эпикризе. !!! есть эпикризы в которых первые цифры это номер отделения, типа онко отд. №2\n",
    "              if id:\n",
    "                    self.patients_id.append(id[0])\n",
    "              birthday = search(\"(\\d{2})-(\\d{2})-(\\d{4})\", file_)\n",
    "              if birthday:\n",
    "                    self.patients_birthday.append(birthday[0])\n",
    "            file_1 = sub(r'(биохимическоеисследованиекрови)(\\d{2}-\\d{2}-\\d{4})', r'\\2\\1', file_) #здесь наоборот ставим дату ПЕРЕД гемост-ой, чтобы она нам не мешала. тк вариант типа \"гемостазиограмма27-09-2021:ачтв..\" не даст результата.\n",
    "            for value in findall(r'(биохимическоеисследованиекрови.*?)(?=\\d{2}-\\d{2}-\\d{4})', file_1): #задаем поиск строки от гемост-ы до даты другого исследования, при этом НЕ захватываются данные других иссл-ий.\n",
    "              value = sub(r'(.*)(аланинаминрансфераза)(\\d.\\d*)', r'\\3\\2\\1', value) #в найденной строке меняем местами необходимые данные. новая строка имеет вид: 4,66фибриногенгемостазиограмма:ачтв24мно1,20...\n",
    "              value = sub(r'(аланинаминрансфераза|биохимическоеисследованиекрови).*', '', value)\n",
    "              if value: #удаляем все, что после фибриногена и/или гемост-ы включительно, оставляя лишь число. если его нет - пустая строка.\n",
    "                  self.values.append(value)\n",
    "              else:\n",
    "                  self.values.append('NaN') #удаляем все, что после фибриногена и/или гемост-ы включительно, оставляя лишь число. если его нет - пустая строка.\n",
    "               # а здесь почему-то не могу применить float/np.float. хотя во всем числах запятые заменены на точки. пишет - ValueError: could not convert string to float: \n",
    "        self.data_dct = {'ID':self.patients_id, 'Birthday':self.patients_birthday, 'dates':self.test_dates,'values':self.values}\n",
    "        df = pd.DataFrame(self.data_dct)\n",
    "        df = df.replace(r'', np.nan, regex=True)\n",
    "        return(df)"
   ]
  },
  {
   "cell_type": "code",
   "execution_count": 35,
   "id": "2045fa0b",
   "metadata": {},
   "outputs": [],
   "source": [
    "s = DataExtractor(lst)"
   ]
  },
  {
   "cell_type": "code",
   "execution_count": 36,
   "id": "2f46bf8a",
   "metadata": {
    "scrolled": true
   },
   "outputs": [],
   "source": [
    "df = s.ALT()"
   ]
  },
  {
   "cell_type": "code",
   "execution_count": 37,
   "id": "eedc4ea0",
   "metadata": {
    "scrolled": true
   },
   "outputs": [
    {
     "data": {
      "text/html": [
       "<div>\n",
       "<style scoped>\n",
       "    .dataframe tbody tr th:only-of-type {\n",
       "        vertical-align: middle;\n",
       "    }\n",
       "\n",
       "    .dataframe tbody tr th {\n",
       "        vertical-align: top;\n",
       "    }\n",
       "\n",
       "    .dataframe thead th {\n",
       "        text-align: right;\n",
       "    }\n",
       "</style>\n",
       "<table border=\"1\" class=\"dataframe\">\n",
       "  <thead>\n",
       "    <tr style=\"text-align: right;\">\n",
       "      <th></th>\n",
       "      <th>ID</th>\n",
       "      <th>Birthday</th>\n",
       "      <th>dates</th>\n",
       "      <th>values</th>\n",
       "    </tr>\n",
       "  </thead>\n",
       "  <tbody>\n",
       "    <tr>\n",
       "      <th>0</th>\n",
       "      <td>3113</td>\n",
       "      <td>08-06-1947</td>\n",
       "      <td>02-12-2020</td>\n",
       "      <td>29</td>\n",
       "    </tr>\n",
       "    <tr>\n",
       "      <th>1</th>\n",
       "      <td>3113</td>\n",
       "      <td>08-06-1947</td>\n",
       "      <td>04-12-2020</td>\n",
       "      <td>NaN</td>\n",
       "    </tr>\n",
       "    <tr>\n",
       "      <th>2</th>\n",
       "      <td>3113</td>\n",
       "      <td>08-06-1947</td>\n",
       "      <td>10-12-2020</td>\n",
       "      <td>83</td>\n",
       "    </tr>\n",
       "    <tr>\n",
       "      <th>3</th>\n",
       "      <td>3113</td>\n",
       "      <td>08-06-1947</td>\n",
       "      <td>14-12-2020</td>\n",
       "      <td>1.5</td>\n",
       "    </tr>\n",
       "    <tr>\n",
       "      <th>4</th>\n",
       "      <td>3113</td>\n",
       "      <td>08-06-1947</td>\n",
       "      <td>17-12-2020</td>\n",
       "      <td>153</td>\n",
       "    </tr>\n",
       "    <tr>\n",
       "      <th>...</th>\n",
       "      <td>...</td>\n",
       "      <td>...</td>\n",
       "      <td>...</td>\n",
       "      <td>...</td>\n",
       "    </tr>\n",
       "    <tr>\n",
       "      <th>159</th>\n",
       "      <td>27619</td>\n",
       "      <td>20-12-1974</td>\n",
       "      <td>02-12-2020</td>\n",
       "      <td>43</td>\n",
       "    </tr>\n",
       "    <tr>\n",
       "      <th>160</th>\n",
       "      <td>27619</td>\n",
       "      <td>20-12-1974</td>\n",
       "      <td>07-12-2020</td>\n",
       "      <td>51</td>\n",
       "    </tr>\n",
       "    <tr>\n",
       "      <th>161</th>\n",
       "      <td>27627</td>\n",
       "      <td>19-03-1957</td>\n",
       "      <td>02-12-2020</td>\n",
       "      <td>27</td>\n",
       "    </tr>\n",
       "    <tr>\n",
       "      <th>162</th>\n",
       "      <td>27627</td>\n",
       "      <td>19-03-1957</td>\n",
       "      <td>07-12-2020</td>\n",
       "      <td>70</td>\n",
       "    </tr>\n",
       "    <tr>\n",
       "      <th>163</th>\n",
       "      <td>27633</td>\n",
       "      <td>03-11-1975</td>\n",
       "      <td>16-12-2020</td>\n",
       "      <td>96</td>\n",
       "    </tr>\n",
       "  </tbody>\n",
       "</table>\n",
       "<p>164 rows × 4 columns</p>\n",
       "</div>"
      ],
      "text/plain": [
       "        ID    Birthday       dates values\n",
       "0     3113  08-06-1947  02-12-2020     29\n",
       "1     3113  08-06-1947  04-12-2020    NaN\n",
       "2     3113  08-06-1947  10-12-2020     83\n",
       "3     3113  08-06-1947  14-12-2020    1.5\n",
       "4     3113  08-06-1947  17-12-2020    153\n",
       "..     ...         ...         ...    ...\n",
       "159  27619  20-12-1974  02-12-2020     43\n",
       "160  27619  20-12-1974  07-12-2020     51\n",
       "161  27627  19-03-1957  02-12-2020     27\n",
       "162  27627  19-03-1957  07-12-2020     70\n",
       "163  27633  03-11-1975  16-12-2020     96\n",
       "\n",
       "[164 rows x 4 columns]"
      ]
     },
     "execution_count": 37,
     "metadata": {},
     "output_type": "execute_result"
    }
   ],
   "source": [
    "df"
   ]
  },
  {
   "cell_type": "code",
   "execution_count": 175,
   "id": "686cd934",
   "metadata": {},
   "outputs": [],
   "source": [
    "def crp(list_of_epicrisis, \n",
    "               test_dates = [],\n",
    "               values = [],\n",
    "               patients_id = [],\n",
    "               patients_birthday = []):\n",
    "    \"\"\"fibrinogen\n",
    "    \n",
    "    params:\n",
    "        list_of_epicrisis - list of txt files \n",
    "        test_dates - dates of fibrinogen test\n",
    "        values - fibrinogen values\n",
    "        patients_id - # case report\n",
    "        patients_birthday\n",
    "        \n",
    "    returns:\n",
    "        dataframe contains fibrinogen data\n",
    "    \"\"\"\n",
    "for doc in lst:\n",
    "  with open(doc, encoding='utf-8', errors='ignore') as file_:\n",
    "    file_ = change_date_format(remover(file_.read()))\n",
    "    file_ = sub(r'(\\d{2}-\\d{2}-\\d{4})(общийанализкрови)', r'\\2\\1', file_) #ставим дату после гемостазиограммы, чтобы проще было искать по одному шаблону.\n",
    "    for date in findall(r'(?<=общийанализкрови)(\\d{2}-\\d{2}-\\d{4}|)', file_): #поиск дат, которые идут после гемост-ы.\n",
    "      dates.append(date)\n",
    "      id = search(r'\\d+', file_) #ищем айди. находит самую первую дату в эпикризе. !!! есть эпикризы в которых первые цифры это номер отделения, типа онко отд. №2\n",
    "      if id:\n",
    "        id_list.append(id[0])\n",
    "    file_1 = sub(r'(общийанализкрови)(\\d{2}-\\d{2}-\\d{4})', r'\\2\\1', file_) #здесь наоборот ставим дату ПЕРЕД гемост-ой, чтобы она нам не мешала. тк вариант типа \"гемостазиограмма27-09-2021:ачтв..\" не даст результата.\n",
    "    for value in findall(r'(общийанализкрови.*?)(?=\\d{2}-\\d{2}-\\d{4})', file_1): #задаем поиск строки от гемост-ы до даты другого исследования, при этом НЕ захватываются данные других иссл-ий.\n",
    "      value = sub(r'(.*)(лейкоциты)(\\d.\\d*)', r'\\3\\2\\1', value) #в найденной строке меняем местами необходимые данные. новая строка имеет вид: 4,66фибриногенгемостазиограмма:ачтв24мно1,20...\n",
    "      value = sub(r'(лейкоциты|общийанализкрови).*', '', value)\n",
    "      if value: #удаляем все, что после фибриногена и/или гемост-ы включительно, оставляя лишь число. если его нет - пустая строка.\n",
    "          values.append(value)\n",
    "      else:\n",
    "          values.append('NaN') #удаляем все, что после фибриногена и/или гемост-ы включительно, оставляя лишь число. если его нет - пустая строка.\n",
    "       # а здесь почему-то не могу применить float/np.float. хотя во всем числах запятые заменены на точки. пишет - ValueError: could not convert string to float:  \n",
    "    data_dct = {'ID':patients_id, 'Birthday':patients_birthday, 'dates':test_dates,'values':values}\n",
    "    df = pd.DataFrame(data_dct)\n",
    "    df = df.replace(r'', np.nan, regex=True)\n",
    "    return(df)"
   ]
  },
  {
   "cell_type": "code",
   "execution_count": null,
   "id": "5f1b910f",
   "metadata": {},
   "outputs": [],
   "source": []
  },
  {
   "cell_type": "code",
   "execution_count": 176,
   "id": "31c6376b",
   "metadata": {},
   "outputs": [
    {
     "data": {
      "text/html": [
       "<div>\n",
       "<style scoped>\n",
       "    .dataframe tbody tr th:only-of-type {\n",
       "        vertical-align: middle;\n",
       "    }\n",
       "\n",
       "    .dataframe tbody tr th {\n",
       "        vertical-align: top;\n",
       "    }\n",
       "\n",
       "    .dataframe thead th {\n",
       "        text-align: right;\n",
       "    }\n",
       "</style>\n",
       "<table border=\"1\" class=\"dataframe\">\n",
       "  <thead>\n",
       "    <tr style=\"text-align: right;\">\n",
       "      <th></th>\n",
       "      <th>ID</th>\n",
       "      <th>Birthday</th>\n",
       "      <th>dates</th>\n",
       "      <th>values</th>\n",
       "    </tr>\n",
       "  </thead>\n",
       "  <tbody>\n",
       "  </tbody>\n",
       "</table>\n",
       "</div>"
      ],
      "text/plain": [
       "Empty DataFrame\n",
       "Columns: [ID, Birthday, dates, values]\n",
       "Index: []"
      ]
     },
     "execution_count": 176,
     "metadata": {},
     "output_type": "execute_result"
    }
   ],
   "source": [
    "crp(lst)"
   ]
  },
  {
   "cell_type": "code",
   "execution_count": 177,
   "id": "8a9e943f",
   "metadata": {},
   "outputs": [
    {
     "name": "stdout",
     "output_type": "stream",
     "text": [
      "97 0 1164 97\n"
     ]
    }
   ],
   "source": [
    "print(len(test_dates),       len(values),               len(patients_id) ,\n",
    "               len(patients_birthday))"
   ]
  },
  {
   "cell_type": "code",
   "execution_count": 115,
   "id": "749ed63d",
   "metadata": {},
   "outputs": [],
   "source": [
    "df = f.fibrinogen(list_of_epicrisis = lst)"
   ]
  },
  {
   "cell_type": "code",
   "execution_count": 116,
   "id": "032b576e",
   "metadata": {},
   "outputs": [
    {
     "data": {
      "text/html": [
       "<div>\n",
       "<style scoped>\n",
       "    .dataframe tbody tr th:only-of-type {\n",
       "        vertical-align: middle;\n",
       "    }\n",
       "\n",
       "    .dataframe tbody tr th {\n",
       "        vertical-align: top;\n",
       "    }\n",
       "\n",
       "    .dataframe thead th {\n",
       "        text-align: right;\n",
       "    }\n",
       "</style>\n",
       "<table border=\"1\" class=\"dataframe\">\n",
       "  <thead>\n",
       "    <tr style=\"text-align: right;\">\n",
       "      <th></th>\n",
       "    </tr>\n",
       "  </thead>\n",
       "  <tbody>\n",
       "  </tbody>\n",
       "</table>\n",
       "</div>"
      ],
      "text/plain": [
       "Empty DataFrame\n",
       "Columns: []\n",
       "Index: []"
      ]
     },
     "execution_count": 116,
     "metadata": {},
     "output_type": "execute_result"
    }
   ],
   "source": [
    "df"
   ]
  },
  {
   "cell_type": "code",
   "execution_count": 169,
   "id": "68ecee6c",
   "metadata": {},
   "outputs": [],
   "source": [
    "dates = []\n",
    "values = []\n",
    "id_list = []"
   ]
  },
  {
   "cell_type": "code",
   "execution_count": 170,
   "id": "58c9dd8e",
   "metadata": {},
   "outputs": [],
   "source": [
    "for doc in lst:\n",
    "  with open(doc, encoding='utf-8', errors='ignore') as file_:\n",
    "    file_ = change_date_format(remover(file_.read()))\n",
    "    file_ = sub(r'(\\d{2}-\\d{2}-\\d{4})(биохимическоеисследованиекрови)', r'\\2\\1', file_) #ставим дату после гемостазиограммы, чтобы проще было искать по одному шаблону.\n",
    "    for date in findall(r'(?<=биохимическоеисследованиекрови)(\\d{2}-\\d{2}-\\d{4}|)', file_): #поиск дат, которые идут после гемост-ы.\n",
    "      dates.append(date)\n",
    "      id = search(r'\\d+', file_) #ищем айди. находит самую первую дату в эпикризе. !!! есть эпикризы в которых первые цифры это номер отделения, типа онко отд. №2\n",
    "      if id:\n",
    "        id_list.append(id[0])\n",
    "    file_1 = sub(r'(биохимическоеисследованиекрови)(\\d{2}-\\d{2}-\\d{4})', r'\\2\\1', file_) #здесь наоборот ставим дату ПЕРЕД гемост-ой, чтобы она нам не мешала. тк вариант типа \"гемостазиограмма27-09-2021:ачтв..\" не даст результата.\n",
    "    for value in findall(r'(биохимическоеисследованиекрови.*?)(?=\\d{2}-\\d{2}-\\d{4})', file_1): #задаем поиск строки от гемост-ы до даты другого исследования, при этом НЕ захватываются данные других иссл-ий.\n",
    "      value = sub(r'(.*)(.-реактивныйбелок)(\\d.\\d*)', r'\\3\\2\\1', value) #в найденной строке меняем местами необходимые данные. новая строка имеет вид: 4,66фибриногенгемостазиограмма:ачтв24мно1,20...\n",
    "      value = sub(r'(.-реактивныйбелок|биохимическоеисследованиекрови).*', '', value)\n",
    "      if value: #удаляем все, что после фибриногена и/или гемост-ы включительно, оставляя лишь число. если его нет - пустая строка.\n",
    "          values.append(value)\n",
    "      else:\n",
    "          values.append('NaN') #удаляем все, что после фибриногена и/или гемост-ы включительно, оставляя лишь число. если его нет - пустая строка.\n",
    "       # а здесь почему-то не могу применить float/np.float. хотя во всем числах запятые заменены на точки. пишет - ValueError: could not convert string to float: "
   ]
  },
  {
   "cell_type": "code",
   "execution_count": 171,
   "id": "c6335887",
   "metadata": {},
   "outputs": [
    {
     "name": "stdout",
     "output_type": "stream",
     "text": [
      "0 0 0\n"
     ]
    }
   ],
   "source": [
    "print(len(id_list), len(dates), len(values))"
   ]
  },
  {
   "cell_type": "code",
   "execution_count": 25,
   "id": "4ac177bb",
   "metadata": {},
   "outputs": [],
   "source": [
    "test_dates = []\n",
    "values = []\n",
    "patients_id = []\n",
    "patients_birthday = []"
   ]
  },
  {
   "cell_type": "code",
   "execution_count": null,
   "id": "47d281a0",
   "metadata": {},
   "outputs": [],
   "source": [
    "print(len(test_dates),       len(values),               len(patients_id) ,\n",
    "               len(patients_birthday))"
   ]
  },
  {
   "cell_type": "code",
   "execution_count": 26,
   "id": "7c9c95aa",
   "metadata": {},
   "outputs": [],
   "source": [
    "for doc in lst:\n",
    "      with open(doc, encoding='utf-8', errors='ignore') as file_:\n",
    "        file_ = change_date_format(remover(file_.read()))\n",
    "        file_ = sub(r'(\\d{2}-\\d{2}-\\d{4})(гемостазиограмма)', r'\\2\\1', file_) #ставим дату после гемостазиограммы, чтобы проще было искать по одному шаблону.\n",
    "        for date in findall(r'(?<=гемостазиограмма)(\\d{2}-\\d{2}-\\d{4}|)', file_): #поиск дат, которые идут после гемост-ы.\n",
    "          test_dates.append(date)\n",
    "          id = search(r'\\d+', file_) #ищем айди. находит самую первую дату в эпикризе. !!! есть эпикризы в которых первые цифры это номер отделения, типа онко отд. №2\n",
    "          if id:\n",
    "                patients_id.append(id[0])\n",
    "          birthday = search(\"(\\d{2})-(\\d{2})-(\\d{4})\", file_)\n",
    "          if birthday:\n",
    "                patients_birthday.append(birthday[0])\n",
    "        file_1 = sub(r'(гемостазиограмма)(\\d{2}-\\d{2}-\\d{4})', r'\\2\\1', file_) #здесь наоборот ставим дату ПЕРЕД гемост-ой, чтобы она нам не мешала. тк вариант типа \"гемостазиограмма27-09-2021:ачтв..\" не даст результата.\n",
    "        for value in findall(r'(гемостазиограмма.*?)(?=\\d{2}-\\d{2}-\\d{4})', file_1): #задаем поиск строки от гемост-ы до даты другого исследования, при этом НЕ захватываются данные других иссл-ий.\n",
    "          value = sub(r'(.*)(фибриноген)(\\d.\\d*)', r'\\3\\2\\1', value) #в найденной строке меняем местами необходимые данные. новая строка имеет вид: 4,66фибриногенгемостазиограмма:ачтв24мно1,20...\n",
    "          value = sub(r'(фибриноген|гемостазиограмма).*', '', value)\n",
    "          if value: #удаляем все, что после фибриногена и/или гемост-ы включительно, оставляя лишь число. если его нет - пустая строка.\n",
    "              values.append(value)\n",
    "          else:\n",
    "              values.append('NaN')"
   ]
  },
  {
   "cell_type": "code",
   "execution_count": 163,
   "id": "fd3c218c",
   "metadata": {},
   "outputs": [
    {
     "name": "stdout",
     "output_type": "stream",
     "text": [
      "97 97 1164 97\n"
     ]
    }
   ],
   "source": [
    "print(len(test_dates),       len(values),               len(patients_id) ,\n",
    "               len(patients_birthday))"
   ]
  },
  {
   "cell_type": "code",
   "execution_count": 8,
   "id": "aed3193d",
   "metadata": {},
   "outputs": [
    {
     "data": {
      "text/html": [
       "<div>\n",
       "<style scoped>\n",
       "    .dataframe tbody tr th:only-of-type {\n",
       "        vertical-align: middle;\n",
       "    }\n",
       "\n",
       "    .dataframe tbody tr th {\n",
       "        vertical-align: top;\n",
       "    }\n",
       "\n",
       "    .dataframe thead th {\n",
       "        text-align: right;\n",
       "    }\n",
       "</style>\n",
       "<table border=\"1\" class=\"dataframe\">\n",
       "  <thead>\n",
       "    <tr style=\"text-align: right;\">\n",
       "      <th></th>\n",
       "      <th>ID</th>\n",
       "      <th>dates</th>\n",
       "      <th>values</th>\n",
       "    </tr>\n",
       "  </thead>\n",
       "  <tbody>\n",
       "    <tr>\n",
       "      <th>0</th>\n",
       "      <td>3113</td>\n",
       "      <td>02-12-2020</td>\n",
       "      <td>3.96</td>\n",
       "    </tr>\n",
       "    <tr>\n",
       "      <th>1</th>\n",
       "      <td>3113</td>\n",
       "      <td>14-12-2020</td>\n",
       "      <td>3.98</td>\n",
       "    </tr>\n",
       "    <tr>\n",
       "      <th>2</th>\n",
       "      <td>3131</td>\n",
       "      <td>04-12-2020</td>\n",
       "      <td>4.4</td>\n",
       "    </tr>\n",
       "    <tr>\n",
       "      <th>3</th>\n",
       "      <td>3133</td>\n",
       "      <td>04-12-2020</td>\n",
       "      <td>4.4</td>\n",
       "    </tr>\n",
       "    <tr>\n",
       "      <th>4</th>\n",
       "      <td>3133</td>\n",
       "      <td>05-12-2020</td>\n",
       "      <td>NaN</td>\n",
       "    </tr>\n",
       "    <tr>\n",
       "      <th>...</th>\n",
       "      <td>...</td>\n",
       "      <td>...</td>\n",
       "      <td>...</td>\n",
       "    </tr>\n",
       "    <tr>\n",
       "      <th>92</th>\n",
       "      <td>27529</td>\n",
       "      <td>08-12-2020</td>\n",
       "      <td>72</td>\n",
       "    </tr>\n",
       "    <tr>\n",
       "      <th>93</th>\n",
       "      <td>27529</td>\n",
       "      <td>12-12-2020</td>\n",
       "      <td>53</td>\n",
       "    </tr>\n",
       "    <tr>\n",
       "      <th>94</th>\n",
       "      <td>27619</td>\n",
       "      <td>02-12-2020</td>\n",
       "      <td>7.72</td>\n",
       "    </tr>\n",
       "    <tr>\n",
       "      <th>95</th>\n",
       "      <td>27627</td>\n",
       "      <td>02-12-2020</td>\n",
       "      <td>6.33</td>\n",
       "    </tr>\n",
       "    <tr>\n",
       "      <th>96</th>\n",
       "      <td>27633</td>\n",
       "      <td>02-12-2020</td>\n",
       "      <td>6.39</td>\n",
       "    </tr>\n",
       "  </tbody>\n",
       "</table>\n",
       "<p>97 rows × 3 columns</p>\n",
       "</div>"
      ],
      "text/plain": [
       "       ID       dates values\n",
       "0    3113  02-12-2020   3.96\n",
       "1    3113  14-12-2020   3.98\n",
       "2    3131  04-12-2020    4.4\n",
       "3    3133  04-12-2020    4.4\n",
       "4    3133  05-12-2020    NaN\n",
       "..    ...         ...    ...\n",
       "92  27529  08-12-2020     72\n",
       "93  27529  12-12-2020     53\n",
       "94  27619  02-12-2020   7.72\n",
       "95  27627  02-12-2020   6.33\n",
       "96  27633  02-12-2020   6.39\n",
       "\n",
       "[97 rows x 3 columns]"
      ]
     },
     "execution_count": 8,
     "metadata": {},
     "output_type": "execute_result"
    }
   ],
   "source": [
    "data_dct = {'ID':id_list, 'dates':dates,'values':values}\n",
    "df = pd.DataFrame(data_dct)\n",
    "df.replace(r'', np.nan, regex=True)"
   ]
  },
  {
   "cell_type": "code",
   "execution_count": 168,
   "id": "de8a6763",
   "metadata": {},
   "outputs": [
    {
     "name": "stdout",
     "output_type": "stream",
     "text": [
      "0 0 0\n"
     ]
    }
   ],
   "source": [
    "print(len(id_list), len(dates), len(values))"
   ]
  },
  {
   "cell_type": "code",
   "execution_count": 30,
   "id": "027321a8",
   "metadata": {},
   "outputs": [
    {
     "data": {
      "text/html": [
       "<div>\n",
       "<style scoped>\n",
       "    .dataframe tbody tr th:only-of-type {\n",
       "        vertical-align: middle;\n",
       "    }\n",
       "\n",
       "    .dataframe tbody tr th {\n",
       "        vertical-align: top;\n",
       "    }\n",
       "\n",
       "    .dataframe thead th {\n",
       "        text-align: right;\n",
       "    }\n",
       "</style>\n",
       "<table border=\"1\" class=\"dataframe\">\n",
       "  <thead>\n",
       "    <tr style=\"text-align: right;\">\n",
       "      <th></th>\n",
       "      <th>ID</th>\n",
       "      <th>dates</th>\n",
       "      <th>values</th>\n",
       "    </tr>\n",
       "  </thead>\n",
       "  <tbody>\n",
       "    <tr>\n",
       "      <th>0</th>\n",
       "      <td>3113</td>\n",
       "      <td>02-12-2020</td>\n",
       "      <td>126</td>\n",
       "    </tr>\n",
       "    <tr>\n",
       "      <th>1</th>\n",
       "      <td>3113</td>\n",
       "      <td>04-12-2020</td>\n",
       "      <td>NaN</td>\n",
       "    </tr>\n",
       "    <tr>\n",
       "      <th>2</th>\n",
       "      <td>3113</td>\n",
       "      <td>10-12-2020</td>\n",
       "      <td>33</td>\n",
       "    </tr>\n",
       "    <tr>\n",
       "      <th>3</th>\n",
       "      <td>3113</td>\n",
       "      <td>14-12-2020</td>\n",
       "      <td>39</td>\n",
       "    </tr>\n",
       "    <tr>\n",
       "      <th>4</th>\n",
       "      <td>3113</td>\n",
       "      <td>17-12-2020</td>\n",
       "      <td>36</td>\n",
       "    </tr>\n",
       "    <tr>\n",
       "      <th>...</th>\n",
       "      <td>...</td>\n",
       "      <td>...</td>\n",
       "      <td>...</td>\n",
       "    </tr>\n",
       "    <tr>\n",
       "      <th>159</th>\n",
       "      <td>27619</td>\n",
       "      <td>02-12-2020</td>\n",
       "      <td>38</td>\n",
       "    </tr>\n",
       "    <tr>\n",
       "      <th>160</th>\n",
       "      <td>27619</td>\n",
       "      <td>07-12-2020</td>\n",
       "      <td>2.4</td>\n",
       "    </tr>\n",
       "    <tr>\n",
       "      <th>161</th>\n",
       "      <td>27627</td>\n",
       "      <td>02-12-2020</td>\n",
       "      <td>96</td>\n",
       "    </tr>\n",
       "    <tr>\n",
       "      <th>162</th>\n",
       "      <td>27627</td>\n",
       "      <td>07-12-2020</td>\n",
       "      <td>8.7</td>\n",
       "    </tr>\n",
       "    <tr>\n",
       "      <th>163</th>\n",
       "      <td>27633</td>\n",
       "      <td>16-12-2020</td>\n",
       "      <td>NaN</td>\n",
       "    </tr>\n",
       "  </tbody>\n",
       "</table>\n",
       "<p>164 rows × 3 columns</p>\n",
       "</div>"
      ],
      "text/plain": [
       "        ID       dates values\n",
       "0     3113  02-12-2020    126\n",
       "1     3113  04-12-2020    NaN\n",
       "2     3113  10-12-2020     33\n",
       "3     3113  14-12-2020     39\n",
       "4     3113  17-12-2020     36\n",
       "..     ...         ...    ...\n",
       "159  27619  02-12-2020     38\n",
       "160  27619  07-12-2020    2.4\n",
       "161  27627  02-12-2020     96\n",
       "162  27627  07-12-2020    8.7\n",
       "163  27633  16-12-2020    NaN\n",
       "\n",
       "[164 rows x 3 columns]"
      ]
     },
     "execution_count": 30,
     "metadata": {},
     "output_type": "execute_result"
    }
   ],
   "source": [
    "data_dct = {'ID':id_list, 'dates':dates,'values':values}\n",
    "df = pd.DataFrame(data_dct)\n",
    "df.replace(r'', np.nan, regex=True)"
   ]
  },
  {
   "cell_type": "code",
   "execution_count": 116,
   "id": "5805d326",
   "metadata": {},
   "outputs": [],
   "source": [
    "dates = []\n",
    "values = []\n",
    "id_list = []"
   ]
  },
  {
   "cell_type": "code",
   "execution_count": 105,
   "id": "5639b796",
   "metadata": {},
   "outputs": [],
   "source": [
    "file_ = change_date_format(remover(\"общийанализкрови04-12-2020лейкоциты13.8 10*9/л ( 4-9 )10*9/л; Эритроциты 4.27; Гемоглобин 115 г/л; СОЭ 43 мм/час; Гематокрит 35.8 %; Тромбоциты 562; Базофилы 1 %; Эозинофилы 2 %; Нейтрофилы палочкоядерные 2 %; Нейтрофилы сегментоядерные 75 %; Лимфоциты 15 %; Моноциты 5 %; \"))\n",
    "file_ = sub(r'(\\d{2}-\\d{2}-\\d{4})(общийанализкрови)', r'\\2\\1', file_) #"
   ]
  },
  {
   "cell_type": "code",
   "execution_count": 106,
   "id": "caa5f238",
   "metadata": {},
   "outputs": [
    {
     "data": {
      "text/plain": [
       "'общийанализкрови04-12-2020лейкоциты13.810*9/л4-910*9/л;эритроциты4.27;гемоглобин115г/л;соэ43мм/час;гематокрит35.8%;тромбоциты562;базофилы1%;эозинофилы2%;нейтрофилыпалочкоядерные2%;нейтрофилысегментоядерные75%;лимфоциты15%;моноциты5%;'"
      ]
     },
     "execution_count": 106,
     "metadata": {},
     "output_type": "execute_result"
    }
   ],
   "source": [
    "file_"
   ]
  },
  {
   "cell_type": "code",
   "execution_count": 108,
   "id": "73364a8a",
   "metadata": {},
   "outputs": [
    {
     "data": {
      "text/plain": [
       "['общийанализкрови']"
      ]
     },
     "execution_count": 108,
     "metadata": {},
     "output_type": "execute_result"
    }
   ],
   "source": [
    "findall(r'(общийанализкрови.*?)(?=\\d{2}-\\d{2}-\\d{4})', file_)"
   ]
  },
  {
   "cell_type": "code",
   "execution_count": 111,
   "id": "839202e5",
   "metadata": {},
   "outputs": [
    {
     "data": {
      "text/plain": [
       "'13лейкоциты04-12-2020общийанализкрови:.810*9/л4-910*9/л;эритроциты4.27;гемоглобин115г/л;соэ43мм/час;гематокрит35.8%;тромбоциты562;базофилы1%;эозинофилы2%;нейтрофилыпалочкоядерные2%;нейтрофилысегментоядерные75%;лимфоциты15%;моноциты5%;'"
      ]
     },
     "execution_count": 111,
     "metadata": {},
     "output_type": "execute_result"
    }
   ],
   "source": [
    "#file_1 = sub(r'(общийанализкрови)(\\d{2}-\\d{2}-\\d{4})', r'\\2\\1', file_)\n",
    "v = findall(r'(общийанализкрови.*?)(?=\\d{2}-\\d{2}-\\d{4})', file_)\n",
    "sub(r'(.*)(лейкоциты)(\\d.\\d*)', r'\\3\\2\\1', file_1)"
   ]
  },
  {
   "cell_type": "code",
   "execution_count": 117,
   "id": "3c9d3619",
   "metadata": {},
   "outputs": [],
   "source": [
    "file_ = change_date_format(remover(\"общийанализкрови04-12-2020лейкоциты13.8 10*9/л ( 4-9 )10*9/л; Эритроциты 4.27; Гемоглобин 115 г/л; СОЭ 43 мм/час; Гематокрит 35.8 %; Тромбоциты 562; Базофилы 1 %; Эозинофилы 2 %; Нейтрофилы палочкоядерные 2 %; Нейтрофилы сегментоядерные 75 %; Лимфоциты 15 %; Моноциты 5 %; \"))\n",
    "file_ = sub(r'(\\d{2}-\\d{2}-\\d{4})(общийанализкрови)', r'\\2\\1', file_) #ставим дату после гемостазиограммы, чтобы проще было искать по одному шаблону.\n",
    "for date in findall(r'(?<=общийанализкрови)(\\d{2}-\\d{2}-\\d{4}|)', file_): #поиск дат, которые идут после гемост-ы.\n",
    "    dates.append(date)\n",
    "    id = search(r'\\d+', file_) #ищем айди. находит самую первую дату в эпикризе. !!! есть эпикризы в которых первые цифры это номер отделения, типа онко отд. №2\n",
    "    if id:\n",
    "        id_list.append(id[0])\n",
    "file_1 = sub(r'(общийанализкрови)(\\d{2}-\\d{2}-\\d{4})', r'\\2\\1', file_) #здесь наоборот ставим дату ПЕРЕД гемост-ой, чтобы она нам не мешала. тк вариант типа \"гемостазиограмма27-09-2021:ачтв..\" не даст результата.\n",
    "for value in findall(r'(общийанализкрови.*?)(?=\\d{2}-\\d{2}-\\d{4})', file_1): #задаем поиск строки от гемост-ы до даты другого исследования, при этом НЕ захватываются данные других иссл-ий.\n",
    "    value = sub(r'(.*)(лейкоциты)(\\d.\\d*)', r'\\3\\2\\1', file_) #в найденной строке меняем местами необходимые данные. новая строка имеет вид: 4,66фибриногенгемостазиограмма:ачтв24мно1,20...\n",
    "    value = sub(r'(лейкоциты|общийанализкрови).*', '', file_1)\n",
    "    if value: #удаляем все, что после фибриногена и/или гемост-ы включительно, оставляя лишь число. если его нет - пустая строка.\n",
    "        values.append(value)\n",
    "    else:\n",
    "        values.append('NaN') #удаляем все, что после фибриногена и/или гемост-ы включительно, оставляя лишь число. если его нет - пустая строка.\n",
    "       # а здесь почему-то не могу применить float/np.float. хотя во всем числах запятые заменены на точки. пишет - ValueError: could not convert string to float: "
   ]
  },
  {
   "cell_type": "code",
   "execution_count": 119,
   "id": "7763550f",
   "metadata": {},
   "outputs": [
    {
     "data": {
      "text/plain": [
       "[]"
      ]
     },
     "execution_count": 119,
     "metadata": {},
     "output_type": "execute_result"
    }
   ],
   "source": [
    "values"
   ]
  },
  {
   "cell_type": "code",
   "execution_count": 118,
   "id": "0a93caf5",
   "metadata": {
    "scrolled": true
   },
   "outputs": [
    {
     "ename": "ValueError",
     "evalue": "All arrays must be of the same length",
     "output_type": "error",
     "traceback": [
      "\u001b[1;31m---------------------------------------------------------------------------\u001b[0m",
      "\u001b[1;31mValueError\u001b[0m                                Traceback (most recent call last)",
      "\u001b[1;32m~\\AppData\\Local\\Temp/ipykernel_15816/66505425.py\u001b[0m in \u001b[0;36m<module>\u001b[1;34m\u001b[0m\n\u001b[0;32m      1\u001b[0m \u001b[0mdata_dct\u001b[0m \u001b[1;33m=\u001b[0m \u001b[1;33m{\u001b[0m\u001b[1;34m'ID'\u001b[0m\u001b[1;33m:\u001b[0m\u001b[0mid_list\u001b[0m\u001b[1;33m,\u001b[0m \u001b[1;34m'dates'\u001b[0m\u001b[1;33m:\u001b[0m\u001b[0mdates\u001b[0m\u001b[1;33m,\u001b[0m\u001b[1;34m'values'\u001b[0m\u001b[1;33m:\u001b[0m\u001b[0mvalues\u001b[0m\u001b[1;33m}\u001b[0m\u001b[1;33m\u001b[0m\u001b[1;33m\u001b[0m\u001b[0m\n\u001b[1;32m----> 2\u001b[1;33m \u001b[0mdf\u001b[0m \u001b[1;33m=\u001b[0m \u001b[0mpd\u001b[0m\u001b[1;33m.\u001b[0m\u001b[0mDataFrame\u001b[0m\u001b[1;33m(\u001b[0m\u001b[0mdata_dct\u001b[0m\u001b[1;33m)\u001b[0m\u001b[1;33m\u001b[0m\u001b[1;33m\u001b[0m\u001b[0m\n\u001b[0m\u001b[0;32m      3\u001b[0m \u001b[0mdf\u001b[0m\u001b[1;33m.\u001b[0m\u001b[0mreplace\u001b[0m\u001b[1;33m(\u001b[0m\u001b[1;34mr''\u001b[0m\u001b[1;33m,\u001b[0m \u001b[0mnp\u001b[0m\u001b[1;33m.\u001b[0m\u001b[0mnan\u001b[0m\u001b[1;33m,\u001b[0m \u001b[0mregex\u001b[0m\u001b[1;33m=\u001b[0m\u001b[1;32mTrue\u001b[0m\u001b[1;33m)\u001b[0m\u001b[1;33m\u001b[0m\u001b[1;33m\u001b[0m\u001b[0m\n",
      "\u001b[1;32m~\\AppData\\Local\\Programs\\Python\\Python39\\lib\\site-packages\\pandas\\core\\frame.py\u001b[0m in \u001b[0;36m__init__\u001b[1;34m(self, data, index, columns, dtype, copy)\u001b[0m\n\u001b[0;32m    612\u001b[0m         \u001b[1;32melif\u001b[0m \u001b[0misinstance\u001b[0m\u001b[1;33m(\u001b[0m\u001b[0mdata\u001b[0m\u001b[1;33m,\u001b[0m \u001b[0mdict\u001b[0m\u001b[1;33m)\u001b[0m\u001b[1;33m:\u001b[0m\u001b[1;33m\u001b[0m\u001b[1;33m\u001b[0m\u001b[0m\n\u001b[0;32m    613\u001b[0m             \u001b[1;31m# GH#38939 de facto copy defaults to False only in non-dict cases\u001b[0m\u001b[1;33m\u001b[0m\u001b[1;33m\u001b[0m\u001b[0m\n\u001b[1;32m--> 614\u001b[1;33m             \u001b[0mmgr\u001b[0m \u001b[1;33m=\u001b[0m \u001b[0mdict_to_mgr\u001b[0m\u001b[1;33m(\u001b[0m\u001b[0mdata\u001b[0m\u001b[1;33m,\u001b[0m \u001b[0mindex\u001b[0m\u001b[1;33m,\u001b[0m \u001b[0mcolumns\u001b[0m\u001b[1;33m,\u001b[0m \u001b[0mdtype\u001b[0m\u001b[1;33m=\u001b[0m\u001b[0mdtype\u001b[0m\u001b[1;33m,\u001b[0m \u001b[0mcopy\u001b[0m\u001b[1;33m=\u001b[0m\u001b[0mcopy\u001b[0m\u001b[1;33m,\u001b[0m \u001b[0mtyp\u001b[0m\u001b[1;33m=\u001b[0m\u001b[0mmanager\u001b[0m\u001b[1;33m)\u001b[0m\u001b[1;33m\u001b[0m\u001b[1;33m\u001b[0m\u001b[0m\n\u001b[0m\u001b[0;32m    615\u001b[0m         \u001b[1;32melif\u001b[0m \u001b[0misinstance\u001b[0m\u001b[1;33m(\u001b[0m\u001b[0mdata\u001b[0m\u001b[1;33m,\u001b[0m \u001b[0mma\u001b[0m\u001b[1;33m.\u001b[0m\u001b[0mMaskedArray\u001b[0m\u001b[1;33m)\u001b[0m\u001b[1;33m:\u001b[0m\u001b[1;33m\u001b[0m\u001b[1;33m\u001b[0m\u001b[0m\n\u001b[0;32m    616\u001b[0m             \u001b[1;32mimport\u001b[0m \u001b[0mnumpy\u001b[0m\u001b[1;33m.\u001b[0m\u001b[0mma\u001b[0m\u001b[1;33m.\u001b[0m\u001b[0mmrecords\u001b[0m \u001b[1;32mas\u001b[0m \u001b[0mmrecords\u001b[0m\u001b[1;33m\u001b[0m\u001b[1;33m\u001b[0m\u001b[0m\n",
      "\u001b[1;32m~\\AppData\\Local\\Programs\\Python\\Python39\\lib\\site-packages\\pandas\\core\\internals\\construction.py\u001b[0m in \u001b[0;36mdict_to_mgr\u001b[1;34m(data, index, columns, dtype, typ, copy)\u001b[0m\n\u001b[0;32m    462\u001b[0m         \u001b[1;31m# TODO: can we get rid of the dt64tz special case above?\u001b[0m\u001b[1;33m\u001b[0m\u001b[1;33m\u001b[0m\u001b[0m\n\u001b[0;32m    463\u001b[0m \u001b[1;33m\u001b[0m\u001b[0m\n\u001b[1;32m--> 464\u001b[1;33m     return arrays_to_mgr(\n\u001b[0m\u001b[0;32m    465\u001b[0m         \u001b[0marrays\u001b[0m\u001b[1;33m,\u001b[0m \u001b[0mdata_names\u001b[0m\u001b[1;33m,\u001b[0m \u001b[0mindex\u001b[0m\u001b[1;33m,\u001b[0m \u001b[0mcolumns\u001b[0m\u001b[1;33m,\u001b[0m \u001b[0mdtype\u001b[0m\u001b[1;33m=\u001b[0m\u001b[0mdtype\u001b[0m\u001b[1;33m,\u001b[0m \u001b[0mtyp\u001b[0m\u001b[1;33m=\u001b[0m\u001b[0mtyp\u001b[0m\u001b[1;33m,\u001b[0m \u001b[0mconsolidate\u001b[0m\u001b[1;33m=\u001b[0m\u001b[0mcopy\u001b[0m\u001b[1;33m\u001b[0m\u001b[1;33m\u001b[0m\u001b[0m\n\u001b[0;32m    466\u001b[0m     )\n",
      "\u001b[1;32m~\\AppData\\Local\\Programs\\Python\\Python39\\lib\\site-packages\\pandas\\core\\internals\\construction.py\u001b[0m in \u001b[0;36marrays_to_mgr\u001b[1;34m(arrays, arr_names, index, columns, dtype, verify_integrity, typ, consolidate)\u001b[0m\n\u001b[0;32m    117\u001b[0m         \u001b[1;31m# figure out the index, if necessary\u001b[0m\u001b[1;33m\u001b[0m\u001b[1;33m\u001b[0m\u001b[0m\n\u001b[0;32m    118\u001b[0m         \u001b[1;32mif\u001b[0m \u001b[0mindex\u001b[0m \u001b[1;32mis\u001b[0m \u001b[1;32mNone\u001b[0m\u001b[1;33m:\u001b[0m\u001b[1;33m\u001b[0m\u001b[1;33m\u001b[0m\u001b[0m\n\u001b[1;32m--> 119\u001b[1;33m             \u001b[0mindex\u001b[0m \u001b[1;33m=\u001b[0m \u001b[0m_extract_index\u001b[0m\u001b[1;33m(\u001b[0m\u001b[0marrays\u001b[0m\u001b[1;33m)\u001b[0m\u001b[1;33m\u001b[0m\u001b[1;33m\u001b[0m\u001b[0m\n\u001b[0m\u001b[0;32m    120\u001b[0m         \u001b[1;32melse\u001b[0m\u001b[1;33m:\u001b[0m\u001b[1;33m\u001b[0m\u001b[1;33m\u001b[0m\u001b[0m\n\u001b[0;32m    121\u001b[0m             \u001b[0mindex\u001b[0m \u001b[1;33m=\u001b[0m \u001b[0mensure_index\u001b[0m\u001b[1;33m(\u001b[0m\u001b[0mindex\u001b[0m\u001b[1;33m)\u001b[0m\u001b[1;33m\u001b[0m\u001b[1;33m\u001b[0m\u001b[0m\n",
      "\u001b[1;32m~\\AppData\\Local\\Programs\\Python\\Python39\\lib\\site-packages\\pandas\\core\\internals\\construction.py\u001b[0m in \u001b[0;36m_extract_index\u001b[1;34m(data)\u001b[0m\n\u001b[0;32m    633\u001b[0m             \u001b[0mlengths\u001b[0m \u001b[1;33m=\u001b[0m \u001b[0mlist\u001b[0m\u001b[1;33m(\u001b[0m\u001b[0mset\u001b[0m\u001b[1;33m(\u001b[0m\u001b[0mraw_lengths\u001b[0m\u001b[1;33m)\u001b[0m\u001b[1;33m)\u001b[0m\u001b[1;33m\u001b[0m\u001b[1;33m\u001b[0m\u001b[0m\n\u001b[0;32m    634\u001b[0m             \u001b[1;32mif\u001b[0m \u001b[0mlen\u001b[0m\u001b[1;33m(\u001b[0m\u001b[0mlengths\u001b[0m\u001b[1;33m)\u001b[0m \u001b[1;33m>\u001b[0m \u001b[1;36m1\u001b[0m\u001b[1;33m:\u001b[0m\u001b[1;33m\u001b[0m\u001b[1;33m\u001b[0m\u001b[0m\n\u001b[1;32m--> 635\u001b[1;33m                 \u001b[1;32mraise\u001b[0m \u001b[0mValueError\u001b[0m\u001b[1;33m(\u001b[0m\u001b[1;34m\"All arrays must be of the same length\"\u001b[0m\u001b[1;33m)\u001b[0m\u001b[1;33m\u001b[0m\u001b[1;33m\u001b[0m\u001b[0m\n\u001b[0m\u001b[0;32m    636\u001b[0m \u001b[1;33m\u001b[0m\u001b[0m\n\u001b[0;32m    637\u001b[0m             \u001b[1;32mif\u001b[0m \u001b[0mhave_dicts\u001b[0m\u001b[1;33m:\u001b[0m\u001b[1;33m\u001b[0m\u001b[1;33m\u001b[0m\u001b[0m\n",
      "\u001b[1;31mValueError\u001b[0m: All arrays must be of the same length"
     ]
    }
   ],
   "source": [
    "data_dct = {'ID':id_list, 'dates':dates,'values':values}\n",
    "df = pd.DataFrame(data_dct)\n",
    "df.replace(r'', np.nan, regex=True)"
   ]
  },
  {
   "cell_type": "code",
   "execution_count": null,
   "id": "2904244e",
   "metadata": {},
   "outputs": [],
   "source": []
  }
 ],
 "metadata": {
  "kernelspec": {
   "display_name": "Python 3 (ipykernel)",
   "language": "python",
   "name": "python3"
  },
  "language_info": {
   "codemirror_mode": {
    "name": "ipython",
    "version": 3
   },
   "file_extension": ".py",
   "mimetype": "text/x-python",
   "name": "python",
   "nbconvert_exporter": "python",
   "pygments_lexer": "ipython3",
   "version": "3.9.7"
  }
 },
 "nbformat": 4,
 "nbformat_minor": 5
}
